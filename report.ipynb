{
 "cells": [
  {
   "cell_type": "markdown",
   "metadata": {},
   "source": [
    "# Report"
   ]
  },
  {
   "cell_type": "markdown",
   "metadata": {},
   "source": [
    "Summary of Data\n",
    "Our data set is drawn from \n",
    "Identify what we establish as a win. \n",
    "Link to raw data\n",
    "\n",
    "Cleaning the data\n",
    "Steps taken to clean data\n",
    "Tools used to clean the data\n",
    "\n",
    "Our Approach\n",
    "The probability calculation.\n",
    "The clustering of data using samples\n",
    "Random information generation\n",
    "\n",
    "\n",
    "What the probability information data tells us\n",
    "What the cluster samples tell us\n",
    "What the random samples tell us\n",
    "\n",
    "Conclusion"
   ]
  },
  {
   "cell_type": "markdown",
   "metadata": {},
   "source": [
    "## Introduction\n",
    "This project analysis data on COVID-19 Test Results by Date of Specimen Collection (By County) for the state of Connecticut in the United States. Within data set we were able to review the relationship between the number of test issues and the number of test that returned positive. This gave us the ability to apply statistical models and predict the probability. \n",
    "\n",
    "The source of our raw data came from [CT Data](https://data.ct.gov) compiled by the Department of Health for Connecticut\n",
    "\n",
    "[LINK TO RAW DATA](https://data.ct.gov/Health-and-Human-Services/COVID-19-Test-Results-by-Date-of-Specimen-Collecti/qfkt-uahj) - Please click on the **Actions** button and select **Query Data** to view data within the built in data viewer. To download the data please click **Export** and select your desired format. "
   ]
  },
  {
   "cell_type": "markdown",
   "metadata": {},
   "source": [
    "#### Our Objective\n",
    "We first began by reviewing the data and establishing our goal. The identification of a positive COVID-19 test result was our success variable as a test can be positive or negative. \n",
    "\n",
    "We filtered the data by year and choose to review **2021** since it prented a complete and comprehensive series of data for all the counties for the entire year. \n",
    "\n",
    "To being working we created a new df named **ct_df_2021** which contained all the data for the selected year."
   ]
  },
  {
   "cell_type": "markdown",
   "metadata": {},
   "source": [
    "### Cleaning Data\n",
    "\n",
    "Our initial export was a CSV file and we inspected the data types to ensure that they were all consistent. *EG Ensuring that all integers and dates were repectively integers and dates.* \n",
    "\n",
    "While reviewing our data set we recognised that some of the dates were text and some were dates. We needed to write a formula that extracted the DAY | MONTH | YEAR values from the exisiting data field and then concatinate them into a useful date field. We additionally choose to keep the individual DAY | MONTH | YEAR columns as they would assist us with additional sorting in python. \n",
    "\n",
    "![Image displaying expaned fields for date](img/dateFieldsExpanded.png)\n",
    "\n",
    "\n",
    "Additionally we recognized that there was a county listed as \"Pending Address Verification\". After we confirmed that there was data for every day of the year for all the other counties we chose to ommit this informaiton as it skewed the state's data, these fields were all also empty. \n",
    "This final cleaning was done in the Juypter Notebook and the code for this can be seen below:\n",
    "\n",
    "![Image of code to remove invalid county from the data](img/removingInvalidCounty.png)\n",
    "\n",
    "Confirmation of the data for all the counties in our selected dataset. \n",
    "![Image of county count](img/countOfDataByCounty.png)"
   ]
  },
  {
   "cell_type": "markdown",
   "metadata": {},
   "source": [
    "## Our Approach\n",
    "We first started by looking at the state was a whole and calculating the mean of the state as well as the mean for all eight counties. From this excercise we recongnized the mean of Connecticut was 129.50924657534247. There were major differences between each of the counties as a result of population density. \n",
    " - Fairfield had a mean of 277.8383561643836 with a population of approximately 62,000.\n",
    " - New Haven had a mean of 276.786301369863 with a population of approximately 135,000.\n",
    " - Hartford has a mean of 250.9041095890411 with a population of approximately 120,000.\n",
    " - Tolland had the lowest mean of 29.221917808219178 with an approximate population of 149,000.\n",
    "\n",
    "We choose to focus on Hartford since it the captial of the state and one of the most densely populated counties. There also appeared to be no direct relationship between the county's population and mean of positive results. \n",
    "\n",
    "Our decision to focus on Hartford was futher confirmed when the compared the probability for the entire state vs the county. \n",
    "> - Connecticut: Total Number of Molecular Tests: 7752174\n",
    "> - Connecticut: Total Number of Molecular Positives from the above tests: 378167\n",
    "> - Connecticut: Probability of positives: **0.04878205778146878**\n",
    "\n",
    "> - Hartford: Total Number of Molecular Tests: 1801754\n",
    "> - Hartford: Total Number of Molecular Positives from the above tests: 91580\n",
    "> - Hartford: Probability of positives: **0.050828248473432**\n",
    "\n",
    "A new dataframe was created for Hartford named **ct_df_2021_hartford**"
   ]
  },
  {
   "cell_type": "markdown",
   "metadata": {},
   "source": [
    "## Sampling Data\n",
    "To visually examine the distribution of data we created three samples from the dataset. \n",
    "\n",
    "**Sample Size of 50**\n",
    "![Distribution of Sample Size 50](img/sample50.png)\n",
    "\n",
    "**Sample Size of 100**\n",
    "![Distribution of Sample Size 100](img/sample100.png)\n",
    "\n",
    "**Sample Size of 150**\n",
    "![Distribution of Sample Size 150](img/sample150.png)"
   ]
  },
  {
   "cell_type": "markdown",
   "metadata": {},
   "source": [
    "**Distribution of positive cases in Hartford 2021**\n",
    "![Positive cases in Hartford 2021](img/hartfordDist.png)\n",
    "\n",
    "We can see from the distribution for the complete dataset there were anomolies as expected during the panedemic with positive the largest daily total positives standing at **3,274** cases and the minimum at 3. "
   ]
  },
  {
   "cell_type": "markdown",
   "metadata": {},
   "source": [
    "## Binomial Distribution\n",
    "The Binomial distribution appears to mirror our standard distribution as illustrated below.  \n",
    "\n",
    "![Binomial Distribution chart](img/binomialDist.png)"
   ]
  },
  {
   "cell_type": "markdown",
   "metadata": {},
   "source": []
  }
 ],
 "metadata": {
  "language_info": {
   "name": "python"
  }
 },
 "nbformat": 4,
 "nbformat_minor": 2
}
