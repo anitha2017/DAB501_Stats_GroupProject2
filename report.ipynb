{
 "cells": [
  {
   "cell_type": "markdown",
   "metadata": {},
   "source": [
    "# Report"
   ]
  },
  {
   "cell_type": "markdown",
   "metadata": {},
   "source": [
    "Summary of Data\n",
    "Our data set is drawn from \n",
    "Identify what we establish as a win. \n",
    "Link to raw data\n",
    "\n",
    "Cleaning the data\n",
    "Steps taken to clean data\n",
    "Tools used to clean the data\n",
    "\n",
    "Our Approach\n",
    "The probability calculation.\n",
    "The clustering of data using samples\n",
    "Random information generation\n",
    "\n",
    "\n",
    "What the probability information data tells us\n",
    "What the cluster samples tell us\n",
    "What the random samples tell us\n",
    "\n",
    "Conclusion"
   ]
  },
  {
   "cell_type": "markdown",
   "metadata": {},
   "source": [
    "## Introduction\n",
    "This project analysis data on COVID-19 Test Results by Date of Specimen Collection (By County) for the state of Connecticut in the United States. Within data set we were able to review the relationship between the number of test issues and the number of test that returned positive. This gave us the ability to apply statistical models and predict the probability. \n",
    "\n",
    "The source of our raw data came from [CT Data](https://data.ct.gov) compiled by the Department of Health for Connecticut\n",
    "\n",
    "[LINK TO RAW DATA](https://data.ct.gov/Health-and-Human-Services/COVID-19-Test-Results-by-Date-of-Specimen-Collecti/qfkt-uahj) - Please click on the **Actions** button and select **Query Data** to view data within the built in data viewer. To download the data please click **Export** and select your desired format. "
   ]
  },
  {
   "cell_type": "markdown",
   "metadata": {},
   "source": [
    "#### Our Objective\n",
    "We first began by reviewing the data and establishing our goal. The identification of a positive COVID-19 test result was our objective variable as a test can be positive or negative. "
   ]
  },
  {
   "cell_type": "markdown",
   "metadata": {},
   "source": [
    "### Cleaning Data\n",
    "\n",
    "Our initial export was a CSV file and we inspected the data types to ensure that they were all consistent. *EG Ensuring that all integers and dates were repectively integers and dates.* \n",
    "\n",
    "While reviewing our data set we recognised that some of the dates were text and some were dates. We needed to write a formula that extracted the DAY | MONTH | YEAR values from the exisiting data field and then concatinate them into a useful date field. We additionally choose to keep the individual DAY | MONTH | YEAR columns as they would assist us with additional sorting in python. \n",
    "\n",
    "![Image displaying expaned fields for date](img/dateFieldsExpanded.png)\n",
    "\n",
    "\n",
    "Additionally we recognized that there was a county listed as \"Pending Address Verification\". After we confirmed that there was data for every day of the year for all the other counties we chose to ommit this informaiton as it skewed the state's data, these fields were all also empty. \n",
    "This final cleaning was done in the Juypter Notebook and the code for this can be seen below:\n",
    "\n",
    "![Image of code to remove invalid county from the data](img/removingInvalidCounty.png)"
   ]
  },
  {
   "cell_type": "markdown",
   "metadata": {},
   "source": [
    "## Our Approach\n",
    "We first started by looking at the state was a whole and calculating the mean of the state as well as the mean for all eight counties. We from this excercise we recongnized that Hartford was the closest. Additionally when we calculated the probability of a positive test in Hartford vs Connecticut(statewide). \n"
   ]
  },
  {
   "cell_type": "markdown",
   "metadata": {},
   "source": []
  }
 ],
 "metadata": {
  "language_info": {
   "name": "python"
  }
 },
 "nbformat": 4,
 "nbformat_minor": 2
}
