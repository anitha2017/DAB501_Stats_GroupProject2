{
 "cells": [
  {
   "cell_type": "code",
   "execution_count": 1,
   "id": "ed41b933",
   "metadata": {},
   "outputs": [
    {
     "data": {
      "text/html": [
       "<div>\n",
       "<style scoped>\n",
       "    .dataframe tbody tr th:only-of-type {\n",
       "        vertical-align: middle;\n",
       "    }\n",
       "\n",
       "    .dataframe tbody tr th {\n",
       "        vertical-align: top;\n",
       "    }\n",
       "\n",
       "    .dataframe thead th {\n",
       "        text-align: right;\n",
       "    }\n",
       "</style>\n",
       "<table border=\"1\" class=\"dataframe\">\n",
       "  <thead>\n",
       "    <tr style=\"text-align: right;\">\n",
       "      <th></th>\n",
       "      <th>Actual Date</th>\n",
       "      <th>Converted Date</th>\n",
       "      <th>Year</th>\n",
       "      <th>Month</th>\n",
       "      <th>Date</th>\n",
       "      <th>County</th>\n",
       "      <th>Number of molecular tests</th>\n",
       "      <th>Number of molecular positives</th>\n",
       "      <th>Number of molecular negatives</th>\n",
       "      <th>Number of molecular indeterminates</th>\n",
       "      <th>Number of antigen tests</th>\n",
       "      <th>Number of antigen positives</th>\n",
       "      <th>Number of antigen negatives</th>\n",
       "      <th>Number of antigen indeterminates</th>\n",
       "    </tr>\n",
       "  </thead>\n",
       "  <tbody>\n",
       "    <tr>\n",
       "      <th>0</th>\n",
       "      <td>12/31/2021</td>\n",
       "      <td>2021-12-31</td>\n",
       "      <td>2021</td>\n",
       "      <td>12</td>\n",
       "      <td>31</td>\n",
       "      <td>Fairfield</td>\n",
       "      <td>6081</td>\n",
       "      <td>1940</td>\n",
       "      <td>4125</td>\n",
       "      <td>16</td>\n",
       "      <td>1887</td>\n",
       "      <td>495</td>\n",
       "      <td>1392</td>\n",
       "      <td>0</td>\n",
       "    </tr>\n",
       "    <tr>\n",
       "      <th>1</th>\n",
       "      <td>12/31/2021</td>\n",
       "      <td>2021-12-31</td>\n",
       "      <td>2021</td>\n",
       "      <td>12</td>\n",
       "      <td>31</td>\n",
       "      <td>Hartford</td>\n",
       "      <td>4907</td>\n",
       "      <td>1602</td>\n",
       "      <td>3291</td>\n",
       "      <td>14</td>\n",
       "      <td>1537</td>\n",
       "      <td>270</td>\n",
       "      <td>1267</td>\n",
       "      <td>0</td>\n",
       "    </tr>\n",
       "    <tr>\n",
       "      <th>2</th>\n",
       "      <td>12/31/2021</td>\n",
       "      <td>2021-12-31</td>\n",
       "      <td>2021</td>\n",
       "      <td>12</td>\n",
       "      <td>31</td>\n",
       "      <td>Litchfield</td>\n",
       "      <td>675</td>\n",
       "      <td>174</td>\n",
       "      <td>499</td>\n",
       "      <td>2</td>\n",
       "      <td>344</td>\n",
       "      <td>77</td>\n",
       "      <td>267</td>\n",
       "      <td>0</td>\n",
       "    </tr>\n",
       "    <tr>\n",
       "      <th>3</th>\n",
       "      <td>12/31/2021</td>\n",
       "      <td>2021-12-31</td>\n",
       "      <td>2021</td>\n",
       "      <td>12</td>\n",
       "      <td>31</td>\n",
       "      <td>Middlesex</td>\n",
       "      <td>794</td>\n",
       "      <td>233</td>\n",
       "      <td>559</td>\n",
       "      <td>2</td>\n",
       "      <td>124</td>\n",
       "      <td>22</td>\n",
       "      <td>102</td>\n",
       "      <td>0</td>\n",
       "    </tr>\n",
       "    <tr>\n",
       "      <th>4</th>\n",
       "      <td>12/31/2021</td>\n",
       "      <td>2021-12-31</td>\n",
       "      <td>2021</td>\n",
       "      <td>12</td>\n",
       "      <td>31</td>\n",
       "      <td>New Haven</td>\n",
       "      <td>5384</td>\n",
       "      <td>1513</td>\n",
       "      <td>3860</td>\n",
       "      <td>11</td>\n",
       "      <td>1571</td>\n",
       "      <td>356</td>\n",
       "      <td>1215</td>\n",
       "      <td>0</td>\n",
       "    </tr>\n",
       "    <tr>\n",
       "      <th>...</th>\n",
       "      <td>...</td>\n",
       "      <td>...</td>\n",
       "      <td>...</td>\n",
       "      <td>...</td>\n",
       "      <td>...</td>\n",
       "      <td>...</td>\n",
       "      <td>...</td>\n",
       "      <td>...</td>\n",
       "      <td>...</td>\n",
       "      <td>...</td>\n",
       "      <td>...</td>\n",
       "      <td>...</td>\n",
       "      <td>...</td>\n",
       "      <td>...</td>\n",
       "    </tr>\n",
       "    <tr>\n",
       "      <th>7699</th>\n",
       "      <td>01/01/2021</td>\n",
       "      <td>2021-01-01</td>\n",
       "      <td>2021</td>\n",
       "      <td>1</td>\n",
       "      <td>1</td>\n",
       "      <td>New Haven</td>\n",
       "      <td>1444</td>\n",
       "      <td>144</td>\n",
       "      <td>1299</td>\n",
       "      <td>1</td>\n",
       "      <td>566</td>\n",
       "      <td>42</td>\n",
       "      <td>524</td>\n",
       "      <td>0</td>\n",
       "    </tr>\n",
       "    <tr>\n",
       "      <th>7700</th>\n",
       "      <td>01/01/2021</td>\n",
       "      <td>2021-01-01</td>\n",
       "      <td>2021</td>\n",
       "      <td>1</td>\n",
       "      <td>1</td>\n",
       "      <td>New London</td>\n",
       "      <td>498</td>\n",
       "      <td>54</td>\n",
       "      <td>443</td>\n",
       "      <td>1</td>\n",
       "      <td>91</td>\n",
       "      <td>15</td>\n",
       "      <td>76</td>\n",
       "      <td>0</td>\n",
       "    </tr>\n",
       "    <tr>\n",
       "      <th>7701</th>\n",
       "      <td>01/01/2021</td>\n",
       "      <td>2021-01-01</td>\n",
       "      <td>2021</td>\n",
       "      <td>1</td>\n",
       "      <td>1</td>\n",
       "      <td>Pending address validation</td>\n",
       "      <td>0</td>\n",
       "      <td>0</td>\n",
       "      <td>0</td>\n",
       "      <td>0</td>\n",
       "      <td>0</td>\n",
       "      <td>0</td>\n",
       "      <td>0</td>\n",
       "      <td>0</td>\n",
       "    </tr>\n",
       "    <tr>\n",
       "      <th>7702</th>\n",
       "      <td>01/01/2021</td>\n",
       "      <td>2021-01-01</td>\n",
       "      <td>2021</td>\n",
       "      <td>1</td>\n",
       "      <td>1</td>\n",
       "      <td>Tolland</td>\n",
       "      <td>219</td>\n",
       "      <td>17</td>\n",
       "      <td>202</td>\n",
       "      <td>0</td>\n",
       "      <td>29</td>\n",
       "      <td>5</td>\n",
       "      <td>24</td>\n",
       "      <td>0</td>\n",
       "    </tr>\n",
       "    <tr>\n",
       "      <th>7703</th>\n",
       "      <td>01/01/2021</td>\n",
       "      <td>2021-01-01</td>\n",
       "      <td>2021</td>\n",
       "      <td>1</td>\n",
       "      <td>1</td>\n",
       "      <td>Windham</td>\n",
       "      <td>110</td>\n",
       "      <td>23</td>\n",
       "      <td>86</td>\n",
       "      <td>1</td>\n",
       "      <td>49</td>\n",
       "      <td>5</td>\n",
       "      <td>44</td>\n",
       "      <td>0</td>\n",
       "    </tr>\n",
       "  </tbody>\n",
       "</table>\n",
       "<p>7704 rows × 14 columns</p>\n",
       "</div>"
      ],
      "text/plain": [
       "     Actual Date  Converted Date  Year  Month  Date  \\\n",
       "0      12/31/2021     2021-12-31  2021     12    31   \n",
       "1      12/31/2021     2021-12-31  2021     12    31   \n",
       "2      12/31/2021     2021-12-31  2021     12    31   \n",
       "3      12/31/2021     2021-12-31  2021     12    31   \n",
       "4      12/31/2021     2021-12-31  2021     12    31   \n",
       "...           ...            ...   ...    ...   ...   \n",
       "7699   01/01/2021     2021-01-01  2021      1     1   \n",
       "7700   01/01/2021     2021-01-01  2021      1     1   \n",
       "7701   01/01/2021     2021-01-01  2021      1     1   \n",
       "7702   01/01/2021     2021-01-01  2021      1     1   \n",
       "7703   01/01/2021     2021-01-01  2021      1     1   \n",
       "\n",
       "                          County  Number of molecular tests  \\\n",
       "0                      Fairfield                       6081   \n",
       "1                       Hartford                       4907   \n",
       "2                     Litchfield                        675   \n",
       "3                      Middlesex                        794   \n",
       "4                      New Haven                       5384   \n",
       "...                          ...                        ...   \n",
       "7699                   New Haven                       1444   \n",
       "7700                  New London                        498   \n",
       "7701  Pending address validation                          0   \n",
       "7702                     Tolland                        219   \n",
       "7703                     Windham                        110   \n",
       "\n",
       "      Number of molecular positives  Number of molecular negatives  \\\n",
       "0                              1940                           4125   \n",
       "1                              1602                           3291   \n",
       "2                               174                            499   \n",
       "3                               233                            559   \n",
       "4                              1513                           3860   \n",
       "...                             ...                            ...   \n",
       "7699                            144                           1299   \n",
       "7700                             54                            443   \n",
       "7701                              0                              0   \n",
       "7702                             17                            202   \n",
       "7703                             23                             86   \n",
       "\n",
       "      Number of molecular indeterminates  Number of antigen tests  \\\n",
       "0                                     16                     1887   \n",
       "1                                     14                     1537   \n",
       "2                                      2                      344   \n",
       "3                                      2                      124   \n",
       "4                                     11                     1571   \n",
       "...                                  ...                      ...   \n",
       "7699                                   1                      566   \n",
       "7700                                   1                       91   \n",
       "7701                                   0                        0   \n",
       "7702                                   0                       29   \n",
       "7703                                   1                       49   \n",
       "\n",
       "      Number of antigen positives  Number of antigen negatives  \\\n",
       "0                             495                         1392   \n",
       "1                             270                         1267   \n",
       "2                              77                          267   \n",
       "3                              22                          102   \n",
       "4                             356                         1215   \n",
       "...                           ...                          ...   \n",
       "7699                           42                          524   \n",
       "7700                           15                           76   \n",
       "7701                            0                            0   \n",
       "7702                            5                           24   \n",
       "7703                            5                           44   \n",
       "\n",
       "      Number of antigen indeterminates  \n",
       "0                                    0  \n",
       "1                                    0  \n",
       "2                                    0  \n",
       "3                                    0  \n",
       "4                                    0  \n",
       "...                                ...  \n",
       "7699                                 0  \n",
       "7700                                 0  \n",
       "7701                                 0  \n",
       "7702                                 0  \n",
       "7703                                 0  \n",
       "\n",
       "[7704 rows x 14 columns]"
      ]
     },
     "execution_count": 1,
     "metadata": {},
     "output_type": "execute_result"
    }
   ],
   "source": [
    "### https://data.world/state-of-connecticut/qfkt-uahj/workspace/data-dictionary\n",
    "### data source from the below  province website \n",
    "###\"https://data.ct.gov/Health-and-Human-Services/COVID-19-Test-Results-by-Date-of-Specimen-Collecti/qfkt-uahj/explore/query/SELECT%0A%20%20%60date%60%2C%0A%20%20%60county%60%2C%0A%20%20%60number_of_pcr_tests%60%2C%0A%20%20%60number_of_pcr_positives%60%2C%0A%20%20%60number_of_pcr_negatives%60%2C%0A%20%20%60number_of_pcr_indeterminates%60%2C%0A%20%20%60number_of_ag_tests%60%2C%0A%20%20%60number_of_ag_positives%60%2C%0A%20%20%60number_of_ag_negatives%60%2C%0A%20%20%60number_of_ag_indeterminates%60%0AORDER%20BY%20%60date%60%20DESC%20NULL%20FIRST/page/filter\"\n",
    "import pandas as pd\n",
    "import matplotlib.pyplot as plt\n",
    "df=pd.read_csv('ct_covid19_test_data.csv')\n",
    "df"
   ]
  },
  {
   "cell_type": "code",
   "execution_count": 2,
   "id": "ab618a0b",
   "metadata": {},
   "outputs": [],
   "source": [
    "df_pending=df[(df[\"County\"]==\"Pending address validation\")]"
   ]
  },
  {
   "cell_type": "code",
   "execution_count": 3,
   "id": "f3c2091e",
   "metadata": {},
   "outputs": [
    {
     "data": {
      "text/html": [
       "<div>\n",
       "<style scoped>\n",
       "    .dataframe tbody tr th:only-of-type {\n",
       "        vertical-align: middle;\n",
       "    }\n",
       "\n",
       "    .dataframe tbody tr th {\n",
       "        vertical-align: top;\n",
       "    }\n",
       "\n",
       "    .dataframe thead th {\n",
       "        text-align: right;\n",
       "    }\n",
       "</style>\n",
       "<table border=\"1\" class=\"dataframe\">\n",
       "  <thead>\n",
       "    <tr style=\"text-align: right;\">\n",
       "      <th></th>\n",
       "      <th>Year</th>\n",
       "      <th>Month</th>\n",
       "      <th>Date</th>\n",
       "      <th>Number of molecular tests</th>\n",
       "      <th>Number of molecular positives</th>\n",
       "      <th>Number of molecular negatives</th>\n",
       "      <th>Number of molecular indeterminates</th>\n",
       "      <th>Number of antigen tests</th>\n",
       "      <th>Number of antigen positives</th>\n",
       "      <th>Number of antigen negatives</th>\n",
       "      <th>Number of antigen indeterminates</th>\n",
       "    </tr>\n",
       "  </thead>\n",
       "  <tbody>\n",
       "    <tr>\n",
       "      <th>count</th>\n",
       "      <td>856.000000</td>\n",
       "      <td>856.000000</td>\n",
       "      <td>856.000000</td>\n",
       "      <td>856.0</td>\n",
       "      <td>856.0</td>\n",
       "      <td>856.0</td>\n",
       "      <td>856.0</td>\n",
       "      <td>856.0</td>\n",
       "      <td>856.0</td>\n",
       "      <td>856.0</td>\n",
       "      <td>856.0</td>\n",
       "    </tr>\n",
       "    <tr>\n",
       "      <th>mean</th>\n",
       "      <td>2020.835280</td>\n",
       "      <td>6.186916</td>\n",
       "      <td>15.745327</td>\n",
       "      <td>0.0</td>\n",
       "      <td>0.0</td>\n",
       "      <td>0.0</td>\n",
       "      <td>0.0</td>\n",
       "      <td>0.0</td>\n",
       "      <td>0.0</td>\n",
       "      <td>0.0</td>\n",
       "      <td>0.0</td>\n",
       "    </tr>\n",
       "    <tr>\n",
       "      <th>std</th>\n",
       "      <td>0.739665</td>\n",
       "      <td>3.322807</td>\n",
       "      <td>8.782524</td>\n",
       "      <td>0.0</td>\n",
       "      <td>0.0</td>\n",
       "      <td>0.0</td>\n",
       "      <td>0.0</td>\n",
       "      <td>0.0</td>\n",
       "      <td>0.0</td>\n",
       "      <td>0.0</td>\n",
       "      <td>0.0</td>\n",
       "    </tr>\n",
       "    <tr>\n",
       "      <th>min</th>\n",
       "      <td>2020.000000</td>\n",
       "      <td>1.000000</td>\n",
       "      <td>1.000000</td>\n",
       "      <td>0.0</td>\n",
       "      <td>0.0</td>\n",
       "      <td>0.0</td>\n",
       "      <td>0.0</td>\n",
       "      <td>0.0</td>\n",
       "      <td>0.0</td>\n",
       "      <td>0.0</td>\n",
       "      <td>0.0</td>\n",
       "    </tr>\n",
       "    <tr>\n",
       "      <th>25%</th>\n",
       "      <td>2020.000000</td>\n",
       "      <td>3.000000</td>\n",
       "      <td>8.000000</td>\n",
       "      <td>0.0</td>\n",
       "      <td>0.0</td>\n",
       "      <td>0.0</td>\n",
       "      <td>0.0</td>\n",
       "      <td>0.0</td>\n",
       "      <td>0.0</td>\n",
       "      <td>0.0</td>\n",
       "      <td>0.0</td>\n",
       "    </tr>\n",
       "    <tr>\n",
       "      <th>50%</th>\n",
       "      <td>2021.000000</td>\n",
       "      <td>6.000000</td>\n",
       "      <td>16.000000</td>\n",
       "      <td>0.0</td>\n",
       "      <td>0.0</td>\n",
       "      <td>0.0</td>\n",
       "      <td>0.0</td>\n",
       "      <td>0.0</td>\n",
       "      <td>0.0</td>\n",
       "      <td>0.0</td>\n",
       "      <td>0.0</td>\n",
       "    </tr>\n",
       "    <tr>\n",
       "      <th>75%</th>\n",
       "      <td>2021.000000</td>\n",
       "      <td>9.000000</td>\n",
       "      <td>23.000000</td>\n",
       "      <td>0.0</td>\n",
       "      <td>0.0</td>\n",
       "      <td>0.0</td>\n",
       "      <td>0.0</td>\n",
       "      <td>0.0</td>\n",
       "      <td>0.0</td>\n",
       "      <td>0.0</td>\n",
       "      <td>0.0</td>\n",
       "    </tr>\n",
       "    <tr>\n",
       "      <th>max</th>\n",
       "      <td>2022.000000</td>\n",
       "      <td>12.000000</td>\n",
       "      <td>31.000000</td>\n",
       "      <td>0.0</td>\n",
       "      <td>0.0</td>\n",
       "      <td>0.0</td>\n",
       "      <td>0.0</td>\n",
       "      <td>0.0</td>\n",
       "      <td>0.0</td>\n",
       "      <td>0.0</td>\n",
       "      <td>0.0</td>\n",
       "    </tr>\n",
       "  </tbody>\n",
       "</table>\n",
       "</div>"
      ],
      "text/plain": [
       "              Year       Month        Date  Number of molecular tests  \\\n",
       "count   856.000000  856.000000  856.000000                      856.0   \n",
       "mean   2020.835280    6.186916   15.745327                        0.0   \n",
       "std       0.739665    3.322807    8.782524                        0.0   \n",
       "min    2020.000000    1.000000    1.000000                        0.0   \n",
       "25%    2020.000000    3.000000    8.000000                        0.0   \n",
       "50%    2021.000000    6.000000   16.000000                        0.0   \n",
       "75%    2021.000000    9.000000   23.000000                        0.0   \n",
       "max    2022.000000   12.000000   31.000000                        0.0   \n",
       "\n",
       "       Number of molecular positives  Number of molecular negatives  \\\n",
       "count                          856.0                          856.0   \n",
       "mean                             0.0                            0.0   \n",
       "std                              0.0                            0.0   \n",
       "min                              0.0                            0.0   \n",
       "25%                              0.0                            0.0   \n",
       "50%                              0.0                            0.0   \n",
       "75%                              0.0                            0.0   \n",
       "max                              0.0                            0.0   \n",
       "\n",
       "       Number of molecular indeterminates  Number of antigen tests  \\\n",
       "count                               856.0                    856.0   \n",
       "mean                                  0.0                      0.0   \n",
       "std                                   0.0                      0.0   \n",
       "min                                   0.0                      0.0   \n",
       "25%                                   0.0                      0.0   \n",
       "50%                                   0.0                      0.0   \n",
       "75%                                   0.0                      0.0   \n",
       "max                                   0.0                      0.0   \n",
       "\n",
       "       Number of antigen positives  Number of antigen negatives  \\\n",
       "count                        856.0                        856.0   \n",
       "mean                           0.0                          0.0   \n",
       "std                            0.0                          0.0   \n",
       "min                            0.0                          0.0   \n",
       "25%                            0.0                          0.0   \n",
       "50%                            0.0                          0.0   \n",
       "75%                            0.0                          0.0   \n",
       "max                            0.0                          0.0   \n",
       "\n",
       "       Number of antigen indeterminates  \n",
       "count                             856.0  \n",
       "mean                                0.0  \n",
       "std                                 0.0  \n",
       "min                                 0.0  \n",
       "25%                                 0.0  \n",
       "50%                                 0.0  \n",
       "75%                                 0.0  \n",
       "max                                 0.0  "
      ]
     },
     "execution_count": 3,
     "metadata": {},
     "output_type": "execute_result"
    }
   ],
   "source": [
    "df_pending.describe()"
   ]
  },
  {
   "cell_type": "code",
   "execution_count": 4,
   "id": "e1cf43a0",
   "metadata": {},
   "outputs": [],
   "source": [
    "#df_2021=df[(df['Converted Date']>='2021-01-01') & (df['Converted Date']<='2021-12-31')]\n",
    "#df_2021\n",
    "df_2021 =df[ (df['Year']==2021) & (df['County']!=\"Pending address validation\")]"
   ]
  },
  {
   "cell_type": "code",
   "execution_count": 5,
   "id": "bbb4a757",
   "metadata": {},
   "outputs": [
    {
     "data": {
      "text/html": [
       "<div>\n",
       "<style scoped>\n",
       "    .dataframe tbody tr th:only-of-type {\n",
       "        vertical-align: middle;\n",
       "    }\n",
       "\n",
       "    .dataframe tbody tr th {\n",
       "        vertical-align: top;\n",
       "    }\n",
       "\n",
       "    .dataframe thead th {\n",
       "        text-align: right;\n",
       "    }\n",
       "</style>\n",
       "<table border=\"1\" class=\"dataframe\">\n",
       "  <thead>\n",
       "    <tr style=\"text-align: right;\">\n",
       "      <th></th>\n",
       "      <th>Actual Date</th>\n",
       "      <th>Converted Date</th>\n",
       "      <th>Year</th>\n",
       "      <th>Month</th>\n",
       "      <th>Date</th>\n",
       "      <th>County</th>\n",
       "      <th>Number of molecular tests</th>\n",
       "      <th>Number of molecular positives</th>\n",
       "      <th>Number of molecular negatives</th>\n",
       "      <th>Number of molecular indeterminates</th>\n",
       "      <th>Number of antigen tests</th>\n",
       "      <th>Number of antigen positives</th>\n",
       "      <th>Number of antigen negatives</th>\n",
       "      <th>Number of antigen indeterminates</th>\n",
       "    </tr>\n",
       "  </thead>\n",
       "  <tbody>\n",
       "    <tr>\n",
       "      <th>0</th>\n",
       "      <td>12/31/2021</td>\n",
       "      <td>2021-12-31</td>\n",
       "      <td>2021</td>\n",
       "      <td>12</td>\n",
       "      <td>31</td>\n",
       "      <td>Fairfield</td>\n",
       "      <td>6081</td>\n",
       "      <td>1940</td>\n",
       "      <td>4125</td>\n",
       "      <td>16</td>\n",
       "      <td>1887</td>\n",
       "      <td>495</td>\n",
       "      <td>1392</td>\n",
       "      <td>0</td>\n",
       "    </tr>\n",
       "    <tr>\n",
       "      <th>1</th>\n",
       "      <td>12/31/2021</td>\n",
       "      <td>2021-12-31</td>\n",
       "      <td>2021</td>\n",
       "      <td>12</td>\n",
       "      <td>31</td>\n",
       "      <td>Hartford</td>\n",
       "      <td>4907</td>\n",
       "      <td>1602</td>\n",
       "      <td>3291</td>\n",
       "      <td>14</td>\n",
       "      <td>1537</td>\n",
       "      <td>270</td>\n",
       "      <td>1267</td>\n",
       "      <td>0</td>\n",
       "    </tr>\n",
       "    <tr>\n",
       "      <th>2</th>\n",
       "      <td>12/31/2021</td>\n",
       "      <td>2021-12-31</td>\n",
       "      <td>2021</td>\n",
       "      <td>12</td>\n",
       "      <td>31</td>\n",
       "      <td>Litchfield</td>\n",
       "      <td>675</td>\n",
       "      <td>174</td>\n",
       "      <td>499</td>\n",
       "      <td>2</td>\n",
       "      <td>344</td>\n",
       "      <td>77</td>\n",
       "      <td>267</td>\n",
       "      <td>0</td>\n",
       "    </tr>\n",
       "    <tr>\n",
       "      <th>3</th>\n",
       "      <td>12/31/2021</td>\n",
       "      <td>2021-12-31</td>\n",
       "      <td>2021</td>\n",
       "      <td>12</td>\n",
       "      <td>31</td>\n",
       "      <td>Middlesex</td>\n",
       "      <td>794</td>\n",
       "      <td>233</td>\n",
       "      <td>559</td>\n",
       "      <td>2</td>\n",
       "      <td>124</td>\n",
       "      <td>22</td>\n",
       "      <td>102</td>\n",
       "      <td>0</td>\n",
       "    </tr>\n",
       "    <tr>\n",
       "      <th>4</th>\n",
       "      <td>12/31/2021</td>\n",
       "      <td>2021-12-31</td>\n",
       "      <td>2021</td>\n",
       "      <td>12</td>\n",
       "      <td>31</td>\n",
       "      <td>New Haven</td>\n",
       "      <td>5384</td>\n",
       "      <td>1513</td>\n",
       "      <td>3860</td>\n",
       "      <td>11</td>\n",
       "      <td>1571</td>\n",
       "      <td>356</td>\n",
       "      <td>1215</td>\n",
       "      <td>0</td>\n",
       "    </tr>\n",
       "    <tr>\n",
       "      <th>...</th>\n",
       "      <td>...</td>\n",
       "      <td>...</td>\n",
       "      <td>...</td>\n",
       "      <td>...</td>\n",
       "      <td>...</td>\n",
       "      <td>...</td>\n",
       "      <td>...</td>\n",
       "      <td>...</td>\n",
       "      <td>...</td>\n",
       "      <td>...</td>\n",
       "      <td>...</td>\n",
       "      <td>...</td>\n",
       "      <td>...</td>\n",
       "      <td>...</td>\n",
       "    </tr>\n",
       "    <tr>\n",
       "      <th>7698</th>\n",
       "      <td>01/01/2021</td>\n",
       "      <td>2021-01-01</td>\n",
       "      <td>2021</td>\n",
       "      <td>1</td>\n",
       "      <td>1</td>\n",
       "      <td>Middlesex</td>\n",
       "      <td>172</td>\n",
       "      <td>13</td>\n",
       "      <td>157</td>\n",
       "      <td>2</td>\n",
       "      <td>49</td>\n",
       "      <td>7</td>\n",
       "      <td>42</td>\n",
       "      <td>0</td>\n",
       "    </tr>\n",
       "    <tr>\n",
       "      <th>7699</th>\n",
       "      <td>01/01/2021</td>\n",
       "      <td>2021-01-01</td>\n",
       "      <td>2021</td>\n",
       "      <td>1</td>\n",
       "      <td>1</td>\n",
       "      <td>New Haven</td>\n",
       "      <td>1444</td>\n",
       "      <td>144</td>\n",
       "      <td>1299</td>\n",
       "      <td>1</td>\n",
       "      <td>566</td>\n",
       "      <td>42</td>\n",
       "      <td>524</td>\n",
       "      <td>0</td>\n",
       "    </tr>\n",
       "    <tr>\n",
       "      <th>7700</th>\n",
       "      <td>01/01/2021</td>\n",
       "      <td>2021-01-01</td>\n",
       "      <td>2021</td>\n",
       "      <td>1</td>\n",
       "      <td>1</td>\n",
       "      <td>New London</td>\n",
       "      <td>498</td>\n",
       "      <td>54</td>\n",
       "      <td>443</td>\n",
       "      <td>1</td>\n",
       "      <td>91</td>\n",
       "      <td>15</td>\n",
       "      <td>76</td>\n",
       "      <td>0</td>\n",
       "    </tr>\n",
       "    <tr>\n",
       "      <th>7702</th>\n",
       "      <td>01/01/2021</td>\n",
       "      <td>2021-01-01</td>\n",
       "      <td>2021</td>\n",
       "      <td>1</td>\n",
       "      <td>1</td>\n",
       "      <td>Tolland</td>\n",
       "      <td>219</td>\n",
       "      <td>17</td>\n",
       "      <td>202</td>\n",
       "      <td>0</td>\n",
       "      <td>29</td>\n",
       "      <td>5</td>\n",
       "      <td>24</td>\n",
       "      <td>0</td>\n",
       "    </tr>\n",
       "    <tr>\n",
       "      <th>7703</th>\n",
       "      <td>01/01/2021</td>\n",
       "      <td>2021-01-01</td>\n",
       "      <td>2021</td>\n",
       "      <td>1</td>\n",
       "      <td>1</td>\n",
       "      <td>Windham</td>\n",
       "      <td>110</td>\n",
       "      <td>23</td>\n",
       "      <td>86</td>\n",
       "      <td>1</td>\n",
       "      <td>49</td>\n",
       "      <td>5</td>\n",
       "      <td>44</td>\n",
       "      <td>0</td>\n",
       "    </tr>\n",
       "  </tbody>\n",
       "</table>\n",
       "<p>2920 rows × 14 columns</p>\n",
       "</div>"
      ],
      "text/plain": [
       "     Actual Date  Converted Date  Year  Month  Date      County  \\\n",
       "0      12/31/2021     2021-12-31  2021     12    31   Fairfield   \n",
       "1      12/31/2021     2021-12-31  2021     12    31    Hartford   \n",
       "2      12/31/2021     2021-12-31  2021     12    31  Litchfield   \n",
       "3      12/31/2021     2021-12-31  2021     12    31   Middlesex   \n",
       "4      12/31/2021     2021-12-31  2021     12    31   New Haven   \n",
       "...           ...            ...   ...    ...   ...         ...   \n",
       "7698   01/01/2021     2021-01-01  2021      1     1   Middlesex   \n",
       "7699   01/01/2021     2021-01-01  2021      1     1   New Haven   \n",
       "7700   01/01/2021     2021-01-01  2021      1     1  New London   \n",
       "7702   01/01/2021     2021-01-01  2021      1     1     Tolland   \n",
       "7703   01/01/2021     2021-01-01  2021      1     1     Windham   \n",
       "\n",
       "      Number of molecular tests  Number of molecular positives  \\\n",
       "0                          6081                           1940   \n",
       "1                          4907                           1602   \n",
       "2                           675                            174   \n",
       "3                           794                            233   \n",
       "4                          5384                           1513   \n",
       "...                         ...                            ...   \n",
       "7698                        172                             13   \n",
       "7699                       1444                            144   \n",
       "7700                        498                             54   \n",
       "7702                        219                             17   \n",
       "7703                        110                             23   \n",
       "\n",
       "      Number of molecular negatives  Number of molecular indeterminates  \\\n",
       "0                              4125                                  16   \n",
       "1                              3291                                  14   \n",
       "2                               499                                   2   \n",
       "3                               559                                   2   \n",
       "4                              3860                                  11   \n",
       "...                             ...                                 ...   \n",
       "7698                            157                                   2   \n",
       "7699                           1299                                   1   \n",
       "7700                            443                                   1   \n",
       "7702                            202                                   0   \n",
       "7703                             86                                   1   \n",
       "\n",
       "      Number of antigen tests  Number of antigen positives  \\\n",
       "0                        1887                          495   \n",
       "1                        1537                          270   \n",
       "2                         344                           77   \n",
       "3                         124                           22   \n",
       "4                        1571                          356   \n",
       "...                       ...                          ...   \n",
       "7698                       49                            7   \n",
       "7699                      566                           42   \n",
       "7700                       91                           15   \n",
       "7702                       29                            5   \n",
       "7703                       49                            5   \n",
       "\n",
       "      Number of antigen negatives  Number of antigen indeterminates  \n",
       "0                            1392                                 0  \n",
       "1                            1267                                 0  \n",
       "2                             267                                 0  \n",
       "3                             102                                 0  \n",
       "4                            1215                                 0  \n",
       "...                           ...                               ...  \n",
       "7698                           42                                 0  \n",
       "7699                          524                                 0  \n",
       "7700                           76                                 0  \n",
       "7702                           24                                 0  \n",
       "7703                           44                                 0  \n",
       "\n",
       "[2920 rows x 14 columns]"
      ]
     },
     "execution_count": 5,
     "metadata": {},
     "output_type": "execute_result"
    }
   ],
   "source": [
    "df_2021"
   ]
  },
  {
   "cell_type": "code",
   "execution_count": 6,
   "id": "81615f61",
   "metadata": {},
   "outputs": [],
   "source": [
    "df_2021_newlondon=df_2021[(df_2021[\"County\"]==\"New London\")]"
   ]
  },
  {
   "cell_type": "code",
   "execution_count": 7,
   "id": "0eb7df89",
   "metadata": {},
   "outputs": [
    {
     "data": {
      "text/html": [
       "<div>\n",
       "<style scoped>\n",
       "    .dataframe tbody tr th:only-of-type {\n",
       "        vertical-align: middle;\n",
       "    }\n",
       "\n",
       "    .dataframe tbody tr th {\n",
       "        vertical-align: top;\n",
       "    }\n",
       "\n",
       "    .dataframe thead th {\n",
       "        text-align: right;\n",
       "    }\n",
       "</style>\n",
       "<table border=\"1\" class=\"dataframe\">\n",
       "  <thead>\n",
       "    <tr style=\"text-align: right;\">\n",
       "      <th></th>\n",
       "      <th>Actual Date</th>\n",
       "      <th>Converted Date</th>\n",
       "      <th>Year</th>\n",
       "      <th>Month</th>\n",
       "      <th>Date</th>\n",
       "      <th>County</th>\n",
       "      <th>Number of molecular tests</th>\n",
       "      <th>Number of molecular positives</th>\n",
       "      <th>Number of molecular negatives</th>\n",
       "      <th>Number of molecular indeterminates</th>\n",
       "      <th>Number of antigen tests</th>\n",
       "      <th>Number of antigen positives</th>\n",
       "      <th>Number of antigen negatives</th>\n",
       "      <th>Number of antigen indeterminates</th>\n",
       "    </tr>\n",
       "  </thead>\n",
       "  <tbody>\n",
       "    <tr>\n",
       "      <th>5</th>\n",
       "      <td>12/31/2021</td>\n",
       "      <td>2021-12-31</td>\n",
       "      <td>2021</td>\n",
       "      <td>12</td>\n",
       "      <td>31</td>\n",
       "      <td>New London</td>\n",
       "      <td>1723</td>\n",
       "      <td>525</td>\n",
       "      <td>1198</td>\n",
       "      <td>0</td>\n",
       "      <td>285</td>\n",
       "      <td>73</td>\n",
       "      <td>212</td>\n",
       "      <td>0</td>\n",
       "    </tr>\n",
       "    <tr>\n",
       "      <th>23</th>\n",
       "      <td>12/30/2021</td>\n",
       "      <td>2021-12-30</td>\n",
       "      <td>2021</td>\n",
       "      <td>12</td>\n",
       "      <td>30</td>\n",
       "      <td>New London</td>\n",
       "      <td>2806</td>\n",
       "      <td>724</td>\n",
       "      <td>2078</td>\n",
       "      <td>4</td>\n",
       "      <td>411</td>\n",
       "      <td>83</td>\n",
       "      <td>328</td>\n",
       "      <td>0</td>\n",
       "    </tr>\n",
       "    <tr>\n",
       "      <th>41</th>\n",
       "      <td>12/29/2021</td>\n",
       "      <td>2021-12-29</td>\n",
       "      <td>2021</td>\n",
       "      <td>12</td>\n",
       "      <td>29</td>\n",
       "      <td>New London</td>\n",
       "      <td>2381</td>\n",
       "      <td>573</td>\n",
       "      <td>1804</td>\n",
       "      <td>4</td>\n",
       "      <td>446</td>\n",
       "      <td>84</td>\n",
       "      <td>362</td>\n",
       "      <td>0</td>\n",
       "    </tr>\n",
       "    <tr>\n",
       "      <th>59</th>\n",
       "      <td>12/28/2021</td>\n",
       "      <td>2021-12-28</td>\n",
       "      <td>2021</td>\n",
       "      <td>12</td>\n",
       "      <td>28</td>\n",
       "      <td>New London</td>\n",
       "      <td>3324</td>\n",
       "      <td>762</td>\n",
       "      <td>2561</td>\n",
       "      <td>1</td>\n",
       "      <td>454</td>\n",
       "      <td>53</td>\n",
       "      <td>401</td>\n",
       "      <td>0</td>\n",
       "    </tr>\n",
       "    <tr>\n",
       "      <th>77</th>\n",
       "      <td>12/27/2021</td>\n",
       "      <td>2021-12-27</td>\n",
       "      <td>2021</td>\n",
       "      <td>12</td>\n",
       "      <td>27</td>\n",
       "      <td>New London</td>\n",
       "      <td>2674</td>\n",
       "      <td>546</td>\n",
       "      <td>2124</td>\n",
       "      <td>4</td>\n",
       "      <td>467</td>\n",
       "      <td>85</td>\n",
       "      <td>382</td>\n",
       "      <td>0</td>\n",
       "    </tr>\n",
       "    <tr>\n",
       "      <th>...</th>\n",
       "      <td>...</td>\n",
       "      <td>...</td>\n",
       "      <td>...</td>\n",
       "      <td>...</td>\n",
       "      <td>...</td>\n",
       "      <td>...</td>\n",
       "      <td>...</td>\n",
       "      <td>...</td>\n",
       "      <td>...</td>\n",
       "      <td>...</td>\n",
       "      <td>...</td>\n",
       "      <td>...</td>\n",
       "      <td>...</td>\n",
       "      <td>...</td>\n",
       "    </tr>\n",
       "    <tr>\n",
       "      <th>7628</th>\n",
       "      <td>01/05/2021</td>\n",
       "      <td>2021-01-05</td>\n",
       "      <td>2021</td>\n",
       "      <td>1</td>\n",
       "      <td>5</td>\n",
       "      <td>New London</td>\n",
       "      <td>4100</td>\n",
       "      <td>364</td>\n",
       "      <td>3734</td>\n",
       "      <td>2</td>\n",
       "      <td>558</td>\n",
       "      <td>7</td>\n",
       "      <td>551</td>\n",
       "      <td>0</td>\n",
       "    </tr>\n",
       "    <tr>\n",
       "      <th>7646</th>\n",
       "      <td>01/04/2021</td>\n",
       "      <td>2021-01-04</td>\n",
       "      <td>2021</td>\n",
       "      <td>1</td>\n",
       "      <td>4</td>\n",
       "      <td>New London</td>\n",
       "      <td>3907</td>\n",
       "      <td>309</td>\n",
       "      <td>3596</td>\n",
       "      <td>2</td>\n",
       "      <td>636</td>\n",
       "      <td>11</td>\n",
       "      <td>625</td>\n",
       "      <td>0</td>\n",
       "    </tr>\n",
       "    <tr>\n",
       "      <th>7664</th>\n",
       "      <td>01/03/2021</td>\n",
       "      <td>2021-01-03</td>\n",
       "      <td>2021</td>\n",
       "      <td>1</td>\n",
       "      <td>3</td>\n",
       "      <td>New London</td>\n",
       "      <td>1673</td>\n",
       "      <td>178</td>\n",
       "      <td>1494</td>\n",
       "      <td>1</td>\n",
       "      <td>139</td>\n",
       "      <td>7</td>\n",
       "      <td>132</td>\n",
       "      <td>0</td>\n",
       "    </tr>\n",
       "    <tr>\n",
       "      <th>7682</th>\n",
       "      <td>01/02/2021</td>\n",
       "      <td>2021-01-02</td>\n",
       "      <td>2021</td>\n",
       "      <td>1</td>\n",
       "      <td>2</td>\n",
       "      <td>New London</td>\n",
       "      <td>2094</td>\n",
       "      <td>252</td>\n",
       "      <td>1839</td>\n",
       "      <td>3</td>\n",
       "      <td>80</td>\n",
       "      <td>14</td>\n",
       "      <td>66</td>\n",
       "      <td>0</td>\n",
       "    </tr>\n",
       "    <tr>\n",
       "      <th>7700</th>\n",
       "      <td>01/01/2021</td>\n",
       "      <td>2021-01-01</td>\n",
       "      <td>2021</td>\n",
       "      <td>1</td>\n",
       "      <td>1</td>\n",
       "      <td>New London</td>\n",
       "      <td>498</td>\n",
       "      <td>54</td>\n",
       "      <td>443</td>\n",
       "      <td>1</td>\n",
       "      <td>91</td>\n",
       "      <td>15</td>\n",
       "      <td>76</td>\n",
       "      <td>0</td>\n",
       "    </tr>\n",
       "  </tbody>\n",
       "</table>\n",
       "<p>365 rows × 14 columns</p>\n",
       "</div>"
      ],
      "text/plain": [
       "     Actual Date  Converted Date  Year  Month  Date      County  \\\n",
       "5      12/31/2021     2021-12-31  2021     12    31  New London   \n",
       "23     12/30/2021     2021-12-30  2021     12    30  New London   \n",
       "41     12/29/2021     2021-12-29  2021     12    29  New London   \n",
       "59     12/28/2021     2021-12-28  2021     12    28  New London   \n",
       "77     12/27/2021     2021-12-27  2021     12    27  New London   \n",
       "...           ...            ...   ...    ...   ...         ...   \n",
       "7628   01/05/2021     2021-01-05  2021      1     5  New London   \n",
       "7646   01/04/2021     2021-01-04  2021      1     4  New London   \n",
       "7664   01/03/2021     2021-01-03  2021      1     3  New London   \n",
       "7682   01/02/2021     2021-01-02  2021      1     2  New London   \n",
       "7700   01/01/2021     2021-01-01  2021      1     1  New London   \n",
       "\n",
       "      Number of molecular tests  Number of molecular positives  \\\n",
       "5                          1723                            525   \n",
       "23                         2806                            724   \n",
       "41                         2381                            573   \n",
       "59                         3324                            762   \n",
       "77                         2674                            546   \n",
       "...                         ...                            ...   \n",
       "7628                       4100                            364   \n",
       "7646                       3907                            309   \n",
       "7664                       1673                            178   \n",
       "7682                       2094                            252   \n",
       "7700                        498                             54   \n",
       "\n",
       "      Number of molecular negatives  Number of molecular indeterminates  \\\n",
       "5                              1198                                   0   \n",
       "23                             2078                                   4   \n",
       "41                             1804                                   4   \n",
       "59                             2561                                   1   \n",
       "77                             2124                                   4   \n",
       "...                             ...                                 ...   \n",
       "7628                           3734                                   2   \n",
       "7646                           3596                                   2   \n",
       "7664                           1494                                   1   \n",
       "7682                           1839                                   3   \n",
       "7700                            443                                   1   \n",
       "\n",
       "      Number of antigen tests  Number of antigen positives  \\\n",
       "5                         285                           73   \n",
       "23                        411                           83   \n",
       "41                        446                           84   \n",
       "59                        454                           53   \n",
       "77                        467                           85   \n",
       "...                       ...                          ...   \n",
       "7628                      558                            7   \n",
       "7646                      636                           11   \n",
       "7664                      139                            7   \n",
       "7682                       80                           14   \n",
       "7700                       91                           15   \n",
       "\n",
       "      Number of antigen negatives  Number of antigen indeterminates  \n",
       "5                             212                                 0  \n",
       "23                            328                                 0  \n",
       "41                            362                                 0  \n",
       "59                            401                                 0  \n",
       "77                            382                                 0  \n",
       "...                           ...                               ...  \n",
       "7628                          551                                 0  \n",
       "7646                          625                                 0  \n",
       "7664                          132                                 0  \n",
       "7682                           66                                 0  \n",
       "7700                           76                                 0  \n",
       "\n",
       "[365 rows x 14 columns]"
      ]
     },
     "execution_count": 7,
     "metadata": {},
     "output_type": "execute_result"
    }
   ],
   "source": [
    "#number of trials = 50\n",
    "#k = number of positive cases would be our success points\n",
    "\n",
    "df_2021_newlondon"
   ]
  },
  {
   "cell_type": "code",
   "execution_count": 8,
   "id": "9a715811",
   "metadata": {},
   "outputs": [
    {
     "data": {
      "text/plain": [
       "78.42191780821918"
      ]
     },
     "execution_count": 8,
     "metadata": {},
     "output_type": "execute_result"
    }
   ],
   "source": [
    "df_2021_newlondon['Number of molecular positives'].mean()"
   ]
  },
  {
   "cell_type": "code",
   "execution_count": 9,
   "id": "b5f12252",
   "metadata": {},
   "outputs": [
    {
     "data": {
      "text/plain": [
       "count    365.000000\n",
       "mean      78.421918\n",
       "std       97.800889\n",
       "min        0.000000\n",
       "25%       24.000000\n",
       "50%       50.000000\n",
       "75%       82.000000\n",
       "max      762.000000\n",
       "Name: Number of molecular positives, dtype: float64"
      ]
     },
     "execution_count": 9,
     "metadata": {},
     "output_type": "execute_result"
    }
   ],
   "source": [
    "df_2021_newlondon['Number of molecular positives'].describe()"
   ]
  },
  {
   "cell_type": "code",
   "execution_count": 10,
   "id": "140a6cce",
   "metadata": {},
   "outputs": [],
   "source": [
    "df_2021_hartford=df_2021[(df_2021[\"County\"]==\"Hartford\")]"
   ]
  },
  {
   "cell_type": "code",
   "execution_count": 11,
   "id": "89853df0",
   "metadata": {},
   "outputs": [
    {
     "data": {
      "text/plain": [
       "250.9041095890411"
      ]
     },
     "execution_count": 11,
     "metadata": {},
     "output_type": "execute_result"
    }
   ],
   "source": [
    "df_2021_hartford['Number of molecular positives'].mean()"
   ]
  },
  {
   "cell_type": "code",
   "execution_count": 12,
   "id": "4d514514",
   "metadata": {},
   "outputs": [
    {
     "data": {
      "text/plain": [
       "count     365.000000\n",
       "mean      250.904110\n",
       "std       371.001494\n",
       "min         3.000000\n",
       "25%        89.000000\n",
       "50%       159.000000\n",
       "75%       251.000000\n",
       "max      3274.000000\n",
       "Name: Number of molecular positives, dtype: float64"
      ]
     },
     "execution_count": 12,
     "metadata": {},
     "output_type": "execute_result"
    }
   ],
   "source": [
    "df_2021_hartford['Number of molecular positives'].describe()"
   ]
  },
  {
   "cell_type": "code",
   "execution_count": 13,
   "id": "a0d72f8a",
   "metadata": {},
   "outputs": [],
   "source": [
    "df_2021_windham=df_2021[(df_2021[\"County\"]==\"Windham\")]\n",
    "df_2021_tolland=df_2021[(df_2021[\"County\"]==\"Tolland\")]\n",
    "df_2021_new_haven=df_2021[(df_2021[\"County\"]==\"New Haven\")]\n",
    "df_2021_hartford=df_2021[(df_2021[\"County\"]==\"Hartford\")]\n",
    "df_2021_fairfield=df_2021[(df_2021[\"County\"]==\"Fairfield\")]\n"
   ]
  },
  {
   "cell_type": "code",
   "execution_count": 14,
   "id": "67111473",
   "metadata": {},
   "outputs": [
    {
     "name": "stdout",
     "output_type": "stream",
     "text": [
      "Windham 39.964383561643835\n",
      "Tolland 29.221917808219178\n",
      "New Haven 276.786301369863\n",
      "Hartford 250.9041095890411\n",
      "Fairfield 277.8383561643836\n"
     ]
    }
   ],
   "source": [
    "print(\"Windham\",df_2021_windham['Number of molecular positives'].mean())\n",
    "print(\"Tolland\",df_2021_tolland['Number of molecular positives'].mean())\n",
    "print(\"New Haven\",df_2021_new_haven['Number of molecular positives'].mean())\n",
    "print(\"Hartford\",df_2021_hartford['Number of molecular positives'].mean())\n",
    "print(\"Fairfield\",df_2021_fairfield['Number of molecular positives'].mean())"
   ]
  },
  {
   "cell_type": "code",
   "execution_count": 15,
   "id": "10ddab2f",
   "metadata": {},
   "outputs": [
    {
     "data": {
      "text/html": [
       "<div>\n",
       "<style scoped>\n",
       "    .dataframe tbody tr th:only-of-type {\n",
       "        vertical-align: middle;\n",
       "    }\n",
       "\n",
       "    .dataframe tbody tr th {\n",
       "        vertical-align: top;\n",
       "    }\n",
       "\n",
       "    .dataframe thead th {\n",
       "        text-align: right;\n",
       "    }\n",
       "</style>\n",
       "<table border=\"1\" class=\"dataframe\">\n",
       "  <thead>\n",
       "    <tr style=\"text-align: right;\">\n",
       "      <th></th>\n",
       "      <th>Year</th>\n",
       "      <th>Month</th>\n",
       "      <th>Date</th>\n",
       "      <th>Number of molecular tests</th>\n",
       "      <th>Number of molecular positives</th>\n",
       "      <th>Number of molecular negatives</th>\n",
       "      <th>Number of molecular indeterminates</th>\n",
       "      <th>Number of antigen tests</th>\n",
       "      <th>Number of antigen positives</th>\n",
       "      <th>Number of antigen negatives</th>\n",
       "      <th>Number of antigen indeterminates</th>\n",
       "    </tr>\n",
       "  </thead>\n",
       "  <tbody>\n",
       "    <tr>\n",
       "      <th>count</th>\n",
       "      <td>365.0</td>\n",
       "      <td>365.000000</td>\n",
       "      <td>365.000000</td>\n",
       "      <td>365.000000</td>\n",
       "      <td>365.000000</td>\n",
       "      <td>365.000000</td>\n",
       "      <td>365.000000</td>\n",
       "      <td>365.000000</td>\n",
       "      <td>365.000000</td>\n",
       "      <td>365.000000</td>\n",
       "      <td>365.000000</td>\n",
       "    </tr>\n",
       "    <tr>\n",
       "      <th>mean</th>\n",
       "      <td>2021.0</td>\n",
       "      <td>6.526027</td>\n",
       "      <td>15.720548</td>\n",
       "      <td>4936.312329</td>\n",
       "      <td>250.904110</td>\n",
       "      <td>4681.706849</td>\n",
       "      <td>3.701370</td>\n",
       "      <td>940.583562</td>\n",
       "      <td>39.243836</td>\n",
       "      <td>900.608219</td>\n",
       "      <td>0.731507</td>\n",
       "    </tr>\n",
       "    <tr>\n",
       "      <th>std</th>\n",
       "      <td>0.0</td>\n",
       "      <td>3.452584</td>\n",
       "      <td>8.808321</td>\n",
       "      <td>2906.455165</td>\n",
       "      <td>371.001494</td>\n",
       "      <td>2735.328813</td>\n",
       "      <td>4.970918</td>\n",
       "      <td>531.608684</td>\n",
       "      <td>51.800104</td>\n",
       "      <td>502.725989</td>\n",
       "      <td>3.720927</td>\n",
       "    </tr>\n",
       "    <tr>\n",
       "      <th>min</th>\n",
       "      <td>2021.0</td>\n",
       "      <td>1.000000</td>\n",
       "      <td>1.000000</td>\n",
       "      <td>575.000000</td>\n",
       "      <td>3.000000</td>\n",
       "      <td>571.000000</td>\n",
       "      <td>0.000000</td>\n",
       "      <td>89.000000</td>\n",
       "      <td>0.000000</td>\n",
       "      <td>87.000000</td>\n",
       "      <td>0.000000</td>\n",
       "    </tr>\n",
       "    <tr>\n",
       "      <th>25%</th>\n",
       "      <td>2021.0</td>\n",
       "      <td>4.000000</td>\n",
       "      <td>8.000000</td>\n",
       "      <td>2487.000000</td>\n",
       "      <td>89.000000</td>\n",
       "      <td>2359.000000</td>\n",
       "      <td>1.000000</td>\n",
       "      <td>477.000000</td>\n",
       "      <td>17.000000</td>\n",
       "      <td>452.000000</td>\n",
       "      <td>0.000000</td>\n",
       "    </tr>\n",
       "    <tr>\n",
       "      <th>50%</th>\n",
       "      <td>2021.0</td>\n",
       "      <td>7.000000</td>\n",
       "      <td>16.000000</td>\n",
       "      <td>4383.000000</td>\n",
       "      <td>159.000000</td>\n",
       "      <td>4062.000000</td>\n",
       "      <td>2.000000</td>\n",
       "      <td>883.000000</td>\n",
       "      <td>29.000000</td>\n",
       "      <td>847.000000</td>\n",
       "      <td>0.000000</td>\n",
       "    </tr>\n",
       "    <tr>\n",
       "      <th>75%</th>\n",
       "      <td>2021.0</td>\n",
       "      <td>10.000000</td>\n",
       "      <td>23.000000</td>\n",
       "      <td>6683.000000</td>\n",
       "      <td>251.000000</td>\n",
       "      <td>6328.000000</td>\n",
       "      <td>5.000000</td>\n",
       "      <td>1257.000000</td>\n",
       "      <td>44.000000</td>\n",
       "      <td>1218.000000</td>\n",
       "      <td>0.000000</td>\n",
       "    </tr>\n",
       "    <tr>\n",
       "      <th>max</th>\n",
       "      <td>2021.0</td>\n",
       "      <td>12.000000</td>\n",
       "      <td>31.000000</td>\n",
       "      <td>12958.000000</td>\n",
       "      <td>3274.000000</td>\n",
       "      <td>12346.000000</td>\n",
       "      <td>39.000000</td>\n",
       "      <td>2850.000000</td>\n",
       "      <td>434.000000</td>\n",
       "      <td>2426.000000</td>\n",
       "      <td>30.000000</td>\n",
       "    </tr>\n",
       "  </tbody>\n",
       "</table>\n",
       "</div>"
      ],
      "text/plain": [
       "         Year       Month        Date  Number of molecular tests  \\\n",
       "count   365.0  365.000000  365.000000                 365.000000   \n",
       "mean   2021.0    6.526027   15.720548                4936.312329   \n",
       "std       0.0    3.452584    8.808321                2906.455165   \n",
       "min    2021.0    1.000000    1.000000                 575.000000   \n",
       "25%    2021.0    4.000000    8.000000                2487.000000   \n",
       "50%    2021.0    7.000000   16.000000                4383.000000   \n",
       "75%    2021.0   10.000000   23.000000                6683.000000   \n",
       "max    2021.0   12.000000   31.000000               12958.000000   \n",
       "\n",
       "       Number of molecular positives  Number of molecular negatives  \\\n",
       "count                     365.000000                     365.000000   \n",
       "mean                      250.904110                    4681.706849   \n",
       "std                       371.001494                    2735.328813   \n",
       "min                         3.000000                     571.000000   \n",
       "25%                        89.000000                    2359.000000   \n",
       "50%                       159.000000                    4062.000000   \n",
       "75%                       251.000000                    6328.000000   \n",
       "max                      3274.000000                   12346.000000   \n",
       "\n",
       "       Number of molecular indeterminates  Number of antigen tests  \\\n",
       "count                          365.000000               365.000000   \n",
       "mean                             3.701370               940.583562   \n",
       "std                              4.970918               531.608684   \n",
       "min                              0.000000                89.000000   \n",
       "25%                              1.000000               477.000000   \n",
       "50%                              2.000000               883.000000   \n",
       "75%                              5.000000              1257.000000   \n",
       "max                             39.000000              2850.000000   \n",
       "\n",
       "       Number of antigen positives  Number of antigen negatives  \\\n",
       "count                   365.000000                   365.000000   \n",
       "mean                     39.243836                   900.608219   \n",
       "std                      51.800104                   502.725989   \n",
       "min                       0.000000                    87.000000   \n",
       "25%                      17.000000                   452.000000   \n",
       "50%                      29.000000                   847.000000   \n",
       "75%                      44.000000                  1218.000000   \n",
       "max                     434.000000                  2426.000000   \n",
       "\n",
       "       Number of antigen indeterminates  \n",
       "count                        365.000000  \n",
       "mean                           0.731507  \n",
       "std                            3.720927  \n",
       "min                            0.000000  \n",
       "25%                            0.000000  \n",
       "50%                            0.000000  \n",
       "75%                            0.000000  \n",
       "max                           30.000000  "
      ]
     },
     "execution_count": 15,
     "metadata": {},
     "output_type": "execute_result"
    }
   ],
   "source": [
    "df_2021_hartford.describe()"
   ]
  },
  {
   "cell_type": "code",
   "execution_count": 16,
   "id": "67ed7840",
   "metadata": {},
   "outputs": [
    {
     "data": {
      "text/html": [
       "<div>\n",
       "<style scoped>\n",
       "    .dataframe tbody tr th:only-of-type {\n",
       "        vertical-align: middle;\n",
       "    }\n",
       "\n",
       "    .dataframe tbody tr th {\n",
       "        vertical-align: top;\n",
       "    }\n",
       "\n",
       "    .dataframe thead th {\n",
       "        text-align: right;\n",
       "    }\n",
       "</style>\n",
       "<table border=\"1\" class=\"dataframe\">\n",
       "  <thead>\n",
       "    <tr style=\"text-align: right;\">\n",
       "      <th></th>\n",
       "      <th>Year</th>\n",
       "      <th>Month</th>\n",
       "      <th>Date</th>\n",
       "      <th>Number of molecular tests</th>\n",
       "      <th>Number of molecular positives</th>\n",
       "      <th>Number of molecular negatives</th>\n",
       "      <th>Number of molecular indeterminates</th>\n",
       "      <th>Number of antigen tests</th>\n",
       "      <th>Number of antigen positives</th>\n",
       "      <th>Number of antigen negatives</th>\n",
       "      <th>Number of antigen indeterminates</th>\n",
       "    </tr>\n",
       "  </thead>\n",
       "  <tbody>\n",
       "    <tr>\n",
       "      <th>count</th>\n",
       "      <td>2920.0</td>\n",
       "      <td>2920.000000</td>\n",
       "      <td>2920.000000</td>\n",
       "      <td>2920.000000</td>\n",
       "      <td>2920.000000</td>\n",
       "      <td>2920.000000</td>\n",
       "      <td>2920.000000</td>\n",
       "      <td>2920.000000</td>\n",
       "      <td>2920.000000</td>\n",
       "      <td>2920.000000</td>\n",
       "      <td>2920.000000</td>\n",
       "    </tr>\n",
       "    <tr>\n",
       "      <th>mean</th>\n",
       "      <td>2021.0</td>\n",
       "      <td>6.526027</td>\n",
       "      <td>15.720548</td>\n",
       "      <td>2654.854110</td>\n",
       "      <td>129.509247</td>\n",
       "      <td>2523.306849</td>\n",
       "      <td>2.038014</td>\n",
       "      <td>452.838699</td>\n",
       "      <td>22.830479</td>\n",
       "      <td>429.601027</td>\n",
       "      <td>0.407192</td>\n",
       "    </tr>\n",
       "    <tr>\n",
       "      <th>std</th>\n",
       "      <td>0.0</td>\n",
       "      <td>3.448442</td>\n",
       "      <td>8.797754</td>\n",
       "      <td>2909.280236</td>\n",
       "      <td>287.140541</td>\n",
       "      <td>2738.946172</td>\n",
       "      <td>4.060977</td>\n",
       "      <td>509.390330</td>\n",
       "      <td>47.462205</td>\n",
       "      <td>476.809926</td>\n",
       "      <td>2.794114</td>\n",
       "    </tr>\n",
       "    <tr>\n",
       "      <th>min</th>\n",
       "      <td>2021.0</td>\n",
       "      <td>1.000000</td>\n",
       "      <td>1.000000</td>\n",
       "      <td>52.000000</td>\n",
       "      <td>0.000000</td>\n",
       "      <td>52.000000</td>\n",
       "      <td>0.000000</td>\n",
       "      <td>4.000000</td>\n",
       "      <td>0.000000</td>\n",
       "      <td>4.000000</td>\n",
       "      <td>0.000000</td>\n",
       "    </tr>\n",
       "    <tr>\n",
       "      <th>25%</th>\n",
       "      <td>2021.0</td>\n",
       "      <td>4.000000</td>\n",
       "      <td>8.000000</td>\n",
       "      <td>615.000000</td>\n",
       "      <td>18.000000</td>\n",
       "      <td>586.000000</td>\n",
       "      <td>0.000000</td>\n",
       "      <td>90.750000</td>\n",
       "      <td>3.000000</td>\n",
       "      <td>85.000000</td>\n",
       "      <td>0.000000</td>\n",
       "    </tr>\n",
       "    <tr>\n",
       "      <th>50%</th>\n",
       "      <td>2021.0</td>\n",
       "      <td>7.000000</td>\n",
       "      <td>16.000000</td>\n",
       "      <td>1537.500000</td>\n",
       "      <td>48.000000</td>\n",
       "      <td>1469.000000</td>\n",
       "      <td>1.000000</td>\n",
       "      <td>205.000000</td>\n",
       "      <td>8.000000</td>\n",
       "      <td>195.000000</td>\n",
       "      <td>0.000000</td>\n",
       "    </tr>\n",
       "    <tr>\n",
       "      <th>75%</th>\n",
       "      <td>2021.0</td>\n",
       "      <td>10.000000</td>\n",
       "      <td>23.000000</td>\n",
       "      <td>3509.250000</td>\n",
       "      <td>136.000000</td>\n",
       "      <td>3325.500000</td>\n",
       "      <td>2.000000</td>\n",
       "      <td>673.750000</td>\n",
       "      <td>26.000000</td>\n",
       "      <td>653.000000</td>\n",
       "      <td>0.000000</td>\n",
       "    </tr>\n",
       "    <tr>\n",
       "      <th>max</th>\n",
       "      <td>2021.0</td>\n",
       "      <td>12.000000</td>\n",
       "      <td>31.000000</td>\n",
       "      <td>14853.000000</td>\n",
       "      <td>4046.000000</td>\n",
       "      <td>14309.000000</td>\n",
       "      <td>45.000000</td>\n",
       "      <td>3154.000000</td>\n",
       "      <td>746.000000</td>\n",
       "      <td>2426.000000</td>\n",
       "      <td>42.000000</td>\n",
       "    </tr>\n",
       "  </tbody>\n",
       "</table>\n",
       "</div>"
      ],
      "text/plain": [
       "         Year        Month         Date  Number of molecular tests  \\\n",
       "count  2920.0  2920.000000  2920.000000                2920.000000   \n",
       "mean   2021.0     6.526027    15.720548                2654.854110   \n",
       "std       0.0     3.448442     8.797754                2909.280236   \n",
       "min    2021.0     1.000000     1.000000                  52.000000   \n",
       "25%    2021.0     4.000000     8.000000                 615.000000   \n",
       "50%    2021.0     7.000000    16.000000                1537.500000   \n",
       "75%    2021.0    10.000000    23.000000                3509.250000   \n",
       "max    2021.0    12.000000    31.000000               14853.000000   \n",
       "\n",
       "       Number of molecular positives  Number of molecular negatives  \\\n",
       "count                    2920.000000                    2920.000000   \n",
       "mean                      129.509247                    2523.306849   \n",
       "std                       287.140541                    2738.946172   \n",
       "min                         0.000000                      52.000000   \n",
       "25%                        18.000000                     586.000000   \n",
       "50%                        48.000000                    1469.000000   \n",
       "75%                       136.000000                    3325.500000   \n",
       "max                      4046.000000                   14309.000000   \n",
       "\n",
       "       Number of molecular indeterminates  Number of antigen tests  \\\n",
       "count                         2920.000000              2920.000000   \n",
       "mean                             2.038014               452.838699   \n",
       "std                              4.060977               509.390330   \n",
       "min                              0.000000                 4.000000   \n",
       "25%                              0.000000                90.750000   \n",
       "50%                              1.000000               205.000000   \n",
       "75%                              2.000000               673.750000   \n",
       "max                             45.000000              3154.000000   \n",
       "\n",
       "       Number of antigen positives  Number of antigen negatives  \\\n",
       "count                  2920.000000                  2920.000000   \n",
       "mean                     22.830479                   429.601027   \n",
       "std                      47.462205                   476.809926   \n",
       "min                       0.000000                     4.000000   \n",
       "25%                       3.000000                    85.000000   \n",
       "50%                       8.000000                   195.000000   \n",
       "75%                      26.000000                   653.000000   \n",
       "max                     746.000000                  2426.000000   \n",
       "\n",
       "       Number of antigen indeterminates  \n",
       "count                       2920.000000  \n",
       "mean                           0.407192  \n",
       "std                            2.794114  \n",
       "min                            0.000000  \n",
       "25%                            0.000000  \n",
       "50%                            0.000000  \n",
       "75%                            0.000000  \n",
       "max                           42.000000  "
      ]
     },
     "execution_count": 16,
     "metadata": {},
     "output_type": "execute_result"
    }
   ],
   "source": [
    "df_2021.describe()"
   ]
  },
  {
   "cell_type": "code",
   "execution_count": 17,
   "id": "a310d338",
   "metadata": {},
   "outputs": [
    {
     "data": {
      "text/plain": [
       "County\n",
       "Fairfield     365\n",
       "Hartford      365\n",
       "Litchfield    365\n",
       "Middlesex     365\n",
       "New Haven     365\n",
       "New London    365\n",
       "Tolland       365\n",
       "Windham       365\n",
       "Name: Number of molecular positives, dtype: int64"
      ]
     },
     "execution_count": 17,
     "metadata": {},
     "output_type": "execute_result"
    }
   ],
   "source": [
    "df_2021['Number of molecular positives'].groupby(by=[df_2021[\"County\"]]).count()"
   ]
  },
  {
   "cell_type": "code",
   "execution_count": 18,
   "id": "7cfb907a",
   "metadata": {},
   "outputs": [
    {
     "data": {
      "text/plain": [
       "365"
      ]
     },
     "execution_count": 18,
     "metadata": {},
     "output_type": "execute_result"
    }
   ],
   "source": [
    "num_hf_positive_case_2021=df_2021_hartford[\"Number of molecular positives\"].count()\n",
    "num_hf_positive_case_2021"
   ]
  },
  {
   "cell_type": "code",
   "execution_count": 19,
   "id": "d87ad85c",
   "metadata": {},
   "outputs": [
    {
     "data": {
      "text/plain": [
       "1       1602\n",
       "19      3028\n",
       "37      3274\n",
       "55      3049\n",
       "73      2665\n",
       "        ... \n",
       "7624     932\n",
       "7642    1038\n",
       "7660     466\n",
       "7678     670\n",
       "7696     164\n",
       "Name: Number of molecular positives, Length: 365, dtype: int64"
      ]
     },
     "execution_count": 19,
     "metadata": {},
     "output_type": "execute_result"
    }
   ],
   "source": [
    "hf_positive_case=df_2021_hartford[\"Number of molecular positives\"]\n",
    "hf_positive_case"
   ]
  },
  {
   "cell_type": "markdown",
   "id": "77e62c09",
   "metadata": {},
   "source": [
    "### Sampling distribution of \"number of molecular positives\" in Hartford County of Connecticut"
   ]
  },
  {
   "cell_type": "code",
   "execution_count": 20,
   "id": "b9933dbb",
   "metadata": {},
   "outputs": [],
   "source": [
    "sample_means10 = [hf_positive_case.sample(10).mean() for i in range(0, 5000)]\n",
    "sample_means50 = [hf_positive_case.sample(50).mean() for i in range(0, 5000)]\n",
    "sample_means100 = [hf_positive_case.sample(100).mean() for i in range(0, 5000)]"
   ]
  },
  {
   "cell_type": "code",
   "execution_count": 21,
   "id": "64aea1a7",
   "metadata": {},
   "outputs": [
    {
     "data": {
      "image/png": "[encoded data removed]",
      "text/plain": [
       "<Figure size 1000x500 with 1 Axes>"
      ]
     },
     "metadata": {},
     "output_type": "display_data"
    },
    {
     "data": {
      "image/png": "[encoded data removed]",
      "text/plain": [
       "<Figure size 1000x500 with 1 Axes>"
      ]
     },
     "metadata": {},
     "output_type": "display_data"
    },
    {
     "data": {
      "image/png": "[encoded data removed]",
      "text/plain": [
       "<Figure size 1000x500 with 1 Axes>"
      ]
     },
     "metadata": {},
     "output_type": "display_data"
    }
   ],
   "source": [
    "plt.rcParams['figure.figsize'] = (10,5)\n",
    "plt.hist(sample_means10, edgecolor = 'black', linewidth = 1.2, bins = 25, color = 'aqua')\n",
    "plt.title(\"Hartford Positive Cases - sample size of 10 days\")\n",
    "plt.show();\n",
    "plt.hist(sample_means50, edgecolor = 'black', linewidth = 1.2, bins = 25, color ='pink')\n",
    "plt.title(\"Hartford Positive Cases - sample size of 50 days\")\n",
    "plt.show();\n",
    "plt.hist(sample_means100, edgecolor = 'black', linewidth = 1.2, bins = 25, color = 'violet')\n",
    "plt.title(\"Hartford Positive Cases - sample size of 100 days\")\n",
    "plt.show();"
   ]
  },
  {
   "cell_type": "markdown",
   "id": "8caf2be4",
   "metadata": {},
   "source": [
    "### Histogram and Normal curve on the dataset"
   ]
  },
  {
   "cell_type": "code",
   "execution_count": null,
   "id": "2054ee7d",
   "metadata": {},
   "outputs": [],
   "source": []
  },
  {
   "cell_type": "code",
   "execution_count": 22,
   "id": "2abf7b86",
   "metadata": {},
   "outputs": [
    {
     "name": "stdout",
     "output_type": "stream",
     "text": [
      "Hartford Positive Test Result=> Mean Value:  250.9041095890411\n",
      "Hartford Positive Test Result=> Std Value:  370.4929246873484\n"
     ]
    }
   ],
   "source": [
    "import numpy as np\n",
    "import scipy. stats as stats\n",
    "hf_positive_case_mean = np.array(df_2021_hartford[\"Number of molecular positives\"]).mean()\n",
    "hf_positive_case_std_dev = np.array(df_2021_hartford[\"Number of molecular positives\"]).std()\n",
    "print(\"Hartford Positive Test Result=> Mean Value: \",hf_positive_case_mean)\n",
    "print(\"Hartford Positive Test Result=> Std Value: \",hf_positive_case_std_dev)"
   ]
  },
  {
   "cell_type": "code",
   "execution_count": 23,
   "id": "40f358dc",
   "metadata": {},
   "outputs": [
    {
     "name": "stdout",
     "output_type": "stream",
     "text": [
      "0.00000000000000000973\n",
      "1.00137268424261161037\n"
     ]
    }
   ],
   "source": [
    "hf_positive_case_zscore = (df_2021_hartford[\"Number of molecular positives\"] - hf_positive_case_mean)/hf_positive_case_std_dev\n",
    "hf_positive_case_zscore_mean =hf_positive_case_zscore.mean()\n",
    "hf_positive_case_zscore_std =hf_positive_case_zscore.std()\n",
    "\n",
    "print('{:.20f}'.format(hf_positive_case_zscore_mean))\n",
    "print('{:.20f}'.format(hf_positive_case_zscore_std))"
   ]
  },
  {
   "cell_type": "code",
   "execution_count": 24,
   "id": "d54ed95b",
   "metadata": {},
   "outputs": [
    {
     "data": {
      "image/png": "[encoded data removed]",
      "text/plain": [
       "<Figure size 500x300 with 1 Axes>"
      ]
     },
     "metadata": {},
     "output_type": "display_data"
    }
   ],
   "source": [
    "plt. figure (figsize=(5,3))\n",
    "plt.hist(x = df_2021_hartford[\"Number of molecular positives\"], density = False)\n",
    "plt.title(\"Hartford - 2021 - Number of molecular positives test results\")\n",
    "plt.show()"
   ]
  },
  {
   "cell_type": "code",
   "execution_count": 25,
   "id": "6883d5df",
   "metadata": {},
   "outputs": [
    {
     "data": {
      "image/png": "[encoded data removed]",
      "text/plain": [
       "<Figure size 500x300 with 1 Axes>"
      ]
     },
     "metadata": {},
     "output_type": "display_data"
    }
   ],
   "source": [
    "plt. figure (figsize=(5,3))\n",
    "plt.hist(x = hf_positive_case_zscore, density = True)\n",
    "plt.title (\"Hartford - 2021 - Number of molecular positives test results 'z score'\")\n",
    "plt.show()"
   ]
  },
  {
   "cell_type": "code",
   "execution_count": 26,
   "id": "7b951dc6",
   "metadata": {},
   "outputs": [],
   "source": [
    "## Normal curve on histogram"
   ]
  },
  {
   "cell_type": "code",
   "execution_count": 27,
   "id": "77979d9e",
   "metadata": {},
   "outputs": [
    {
     "data": {
      "image/png": "[encoded data removed]",
      "text/plain": [
       "<Figure size 600x600 with 1 Axes>"
      ]
     },
     "metadata": {},
     "output_type": "display_data"
    }
   ],
   "source": [
    "# Creating a range of x values from mean - 4*std_\n",
    "x = np.linspace(hf_positive_case_zscore_mean - 4*hf_positive_case_zscore_std, hf_positive_case_zscore_mean + 4*hf_positive_case_zscore_std, 365)\n",
    "\n",
    "# Calculating the normal distribution values\n",
    "y = stats.norm.pdf(x, hf_positive_case_zscore_mean, hf_positive_case_zscore_std)\n",
    "\n",
    "# Plotting the normal distribution\n",
    "plt. figure (figsize=(6, 6))\n",
    "plt. plot(x, y, label= 'Normal Distribution')\n",
    "plt.hist(x = hf_positive_case_zscore, density = True)\n",
    "plt.title('Hartford - 2021 - Number of molecular positives test results \\'z score\\' With Normal Curve')\n",
    "plt.xlabel( 'Value')\n",
    "plt.ylabel('Probability Density')\n",
    "plt.legend()\n",
    "plt.grid(True)\n",
    "plt.show()"
   ]
  },
  {
   "cell_type": "markdown",
   "id": "b3f06575",
   "metadata": {},
   "source": [
    "### Binomial"
   ]
  },
  {
   "cell_type": "code",
   "execution_count": 33,
   "id": "7b834fcb",
   "metadata": {},
   "outputs": [
    {
     "data": {
      "text/plain": [
       "91580"
      ]
     },
     "execution_count": 33,
     "metadata": {},
     "output_type": "execute_result"
    }
   ],
   "source": [
    "df_2021_hartford[\"Number of molecular positives\"].sum()"
   ]
  },
  {
   "cell_type": "code",
   "execution_count": 36,
   "id": "be1c817b",
   "metadata": {},
   "outputs": [
    {
     "data": {
      "text/plain": [
       "1801754"
      ]
     },
     "execution_count": 36,
     "metadata": {},
     "output_type": "execute_result"
    }
   ],
   "source": [
    "df_2021_hartford[\"Number of molecular tests\"].sum()"
   ]
  },
  {
   "cell_type": "code",
   "execution_count": 38,
   "id": "e7a2a162",
   "metadata": {},
   "outputs": [
    {
     "data": {
      "text/plain": [
       "0.050828248473432"
      ]
     },
     "execution_count": 38,
     "metadata": {},
     "output_type": "execute_result"
    }
   ],
   "source": [
    "df_2021_hartford_ratio=df_2021_hartford[\"Number of molecular positives\"].sum()/df_2021_hartford[\"Number of molecular tests\"].sum()\n",
    "df_2021_hartford_ratio"
   ]
  },
  {
   "cell_type": "markdown",
   "id": "979b0421",
   "metadata": {},
   "source": [
    "#### X∼B(n=5000,p=0.050828248473432) where n=5000 and p=0.050828248473432."
   ]
  },
  {
   "cell_type": "code",
   "execution_count": 39,
   "id": "2df75dc0",
   "metadata": {},
   "outputs": [
    {
     "data": {
      "text/plain": [
       "0.949171751526568"
      ]
     },
     "execution_count": 39,
     "metadata": {},
     "output_type": "execute_result"
    }
   ],
   "source": [
    "1-0.050828248473432"
   ]
  },
  {
   "cell_type": "code",
   "execution_count": 41,
   "id": "67610042",
   "metadata": {},
   "outputs": [
    {
     "data": {
      "text/plain": [
       "254.14124236715003"
      ]
     },
     "execution_count": 41,
     "metadata": {},
     "output_type": "execute_result"
    }
   ],
   "source": [
    " 5000 * 0.05082824847343"
   ]
  },
  {
   "cell_type": "code",
   "execution_count": 40,
   "id": "aa1f396b",
   "metadata": {},
   "outputs": [
    {
     "data": {
      "text/plain": [
       "4745.85875763284"
      ]
     },
     "execution_count": 40,
     "metadata": {},
     "output_type": "execute_result"
    }
   ],
   "source": [
    "5000 * 0.949171751526568"
   ]
  },
  {
   "cell_type": "code",
   "execution_count": 42,
   "id": "09a7b65e",
   "metadata": {},
   "outputs": [
    {
     "data": {
      "text/plain": [
       "241.22368815277528"
      ]
     },
     "execution_count": 42,
     "metadata": {},
     "output_type": "execute_result"
    }
   ],
   "source": [
    "5000 * 0.050828248473432 * 0.949171751526568"
   ]
  },
  {
   "cell_type": "code",
   "execution_count": 32,
   "id": "09c500f2",
   "metadata": {},
   "outputs": [
    {
     "data": {
      "text/plain": [
       "count     365.000000\n",
       "mean      250.904110\n",
       "std       371.001494\n",
       "min         3.000000\n",
       "25%        89.000000\n",
       "50%       159.000000\n",
       "75%       251.000000\n",
       "max      3274.000000\n",
       "Name: Number of molecular positives, dtype: float64"
      ]
     },
     "execution_count": 32,
     "metadata": {},
     "output_type": "execute_result"
    }
   ],
   "source": [
    "df_2021_hartford[\"Number of molecular positives\"].describe()"
   ]
  },
  {
   "cell_type": "markdown",
   "id": "3065e22b",
   "metadata": {},
   "source": [
    "### Normal Approximation to Binomial"
   ]
  },
  {
   "cell_type": "markdown",
   "id": "aaa2abec",
   "metadata": {},
   "source": [
    "\n",
    "n*p = 5000 * 0.050828248473432 = 254.1412424 which is >= 10, \n",
    "n*q = 5000 * (1-0.050828248473432) = 5000 * 0.949171751526568 = 4745.85875763284 >=10. As its large, use the normal approximation to the binomial as np >=10 and nq >= 10 \n",
    "\n",
    "$$\\mu=n*p = 5000 * 0.050828248473432, \\mu = 254.14124236715003 ,\\sigma=\\sqrt{n*p*(1-p)} = \\sqrt{5000 * 0.050828248473432 * 0.949171751526568}, \\sigma = 241.22368815277528 $$"
   ]
  },
  {
   "cell_type": "code",
   "execution_count": 49,
   "id": "b1717fe7",
   "metadata": {},
   "outputs": [
    {
     "data": {
      "text/plain": [
       "1250.0"
      ]
     },
     "execution_count": 49,
     "metadata": {},
     "output_type": "execute_result"
    }
   ],
   "source": [
    "5000 * 0.5 * 0.5"
   ]
  },
  {
   "cell_type": "markdown",
   "id": "eccd28c0",
   "metadata": {},
   "source": [
    "\n",
    "n*p = 5000 * 0.50 = 2500 which is >= 10, \n",
    "n*q = 5000 * (1-0.50) = 5000 * 0.50 = 2500 >=10. As its large, use the normal approximation to the binomial as np >=10 and nq >= 10 \n",
    "\n",
    "$$\\mu=n*p = 5000 * 0.50 = 2500 , \\mu = 2500,\\sigma=\\sqrt{n*p*(1-p)} = \\sqrt{5000 * 0.5 * 0.5}, \\sigma = 1250 $$"
   ]
  },
  {
   "cell_type": "code",
   "execution_count": null,
   "id": "aa6129de",
   "metadata": {},
   "outputs": [],
   "source": []
  },
  {
   "cell_type": "markdown",
   "id": "84c3dcde",
   "metadata": {},
   "source": [
    " Find the probability that at least 250 positive cases in hartford data from 2021.\n",
    "P(X≥250) has normal approximation P(Y≥250)"
   ]
  },
  {
   "cell_type": "code",
   "execution_count": null,
   "id": "215df279",
   "metadata": {},
   "outputs": [],
   "source": []
  },
  {
   "cell_type": "code",
   "execution_count": 58,
   "id": "189a3045",
   "metadata": {},
   "outputs": [
    {
     "name": "stdout",
     "output_type": "stream",
     "text": [
      "0.5070139203261286\n"
     ]
    }
   ],
   "source": [
    "#0.05 % prob\n",
    "from scipy.stats import norm\n",
    "\n",
    "prob_normal_cdf=norm.cdf(250, loc=254.14124236715003, scale=241.22368815277528)\n",
    "print(1-prob_normal_cdf)"
   ]
  },
  {
   "cell_type": "code",
   "execution_count": 71,
   "id": "ae28738a",
   "metadata": {},
   "outputs": [
    {
     "data": {
      "image/png": "[encoded data removed]",
      "text/plain": [
       "<Figure size 600x600 with 1 Axes>"
      ]
     },
     "metadata": {},
     "output_type": "display_data"
    }
   ],
   "source": [
    "# Creating a range of x values from mean - 4*std_\n",
    "binomial_mean = 254.14124236715003\n",
    "binomial_std = 241.22368815277528\n",
    "x = np.linspace(binomial_mean - 4*binomial_std, binomial_mean + 4*binomial_std, 6000)\n",
    "\n",
    "# Calculating the normal distribution values\n",
    "y = stats.norm.pdf(x, binomial_mean, binomial_std)\n",
    "\n",
    "# Plotting the normal distribution\n",
    "plt. figure (figsize=(6, 6))\n",
    "plt. plot(x, y, label= 'Normal Distribution')\n",
    "plt.hist(x = df_2021_hartford[\"Number of molecular positives\"], density = True)\n",
    "plt.title('n=5000, p=0.05, size =1000, N(µ=254.14124236715003, σ= 241.22368815277528)')\n",
    "plt.xlabel( 'Value')\n",
    "plt.ylabel('Probability Density')\n",
    "plt.legend()\n",
    "plt.grid(True)\n",
    "plt.show()"
   ]
  },
  {
   "cell_type": "code",
   "execution_count": 67,
   "id": "8917a29b",
   "metadata": {},
   "outputs": [
    {
     "name": "stdout",
     "output_type": "stream",
     "text": [
      "0.5068485625757227\n"
     ]
    }
   ],
   "source": [
    "from scipy.stats import norm\n",
    "\n",
    "prob_normal_cdf=norm.cdf(250, loc=254.14124236715003, scale=241.22368815277528)\n",
    "print(1-prob_normal_cdf)"
   ]
  },
  {
   "cell_type": "code",
   "execution_count": 60,
   "id": "c4a2cc35",
   "metadata": {},
   "outputs": [
    {
     "name": "stdout",
     "output_type": "stream",
     "text": [
      "0.9640696808870742\n"
     ]
    }
   ],
   "source": [
    "##50% prob\n",
    "from scipy.stats import norm\n",
    "\n",
    "prob_normal_cdf=norm.cdf(250, loc=2500, scale=1250)\n",
    "print(1-prob_normal_cdf)"
   ]
  },
  {
   "cell_type": "code",
   "execution_count": 59,
   "id": "917ca4a0",
   "metadata": {},
   "outputs": [
    {
     "name": "stdout",
     "output_type": "stream",
     "text": [
      "PDF:  0.0016535834355995453\n"
     ]
    }
   ],
   "source": [
    "print(\"PDF: \",norm.pdf(250, loc=254.14124236715003, scale=241.22368815277528))"
   ]
  },
  {
   "cell_type": "code",
   "execution_count": 47,
   "id": "ac219a0f",
   "metadata": {},
   "outputs": [
    {
     "name": "stdout",
     "output_type": "stream",
     "text": [
      "0.589129631046051\n"
     ]
    }
   ],
   "source": [
    "from scipy.stats import binom\n",
    "prob_binom=binom.cdf(k=250, n=5000, p=0.050828248473432)\n",
    "print(1 -prob_binom)"
   ]
  },
  {
   "cell_type": "code",
   "execution_count": 53,
   "id": "78b339c0",
   "metadata": {},
   "outputs": [
    {
     "name": "stdout",
     "output_type": "stream",
     "text": [
      "1.0\n"
     ]
    }
   ],
   "source": [
    "from scipy.stats import binom\n",
    "prob_binom=binom.cdf(k=250, n=5000, p=0.50)\n",
    "print(1 -prob_binom)"
   ]
  },
  {
   "cell_type": "code",
   "execution_count": 55,
   "id": "c12a9e76",
   "metadata": {},
   "outputs": [
    {
     "name": "stdout",
     "output_type": "stream",
     "text": [
      "PMF:  0.02496979225407874\n"
     ]
    }
   ],
   "source": [
    "print(\"PMF: \",binom.pmf(k=250, n=5000, p=0.050828248473432))"
   ]
  },
  {
   "cell_type": "code",
   "execution_count": 56,
   "id": "fbf32994",
   "metadata": {},
   "outputs": [
    {
     "name": "stdout",
     "output_type": "stream",
     "text": [
      "PMF:  0.0\n"
     ]
    }
   ],
   "source": [
    "print(\"PMF: \",binom.pmf(k=250, n=5000, p=0.50))"
   ]
  },
  {
   "cell_type": "code",
   "execution_count": 28,
   "id": "1575f1c9",
   "metadata": {},
   "outputs": [
    {
     "data": {
      "text/plain": [
       "1       1602\n",
       "19      3028\n",
       "37      3274\n",
       "55      3049\n",
       "73      2665\n",
       "        ... \n",
       "7624     932\n",
       "7642    1038\n",
       "7660     466\n",
       "7678     670\n",
       "7696     164\n",
       "Name: Number of molecular positives, Length: 365, dtype: int64"
      ]
     },
     "execution_count": 28,
     "metadata": {},
     "output_type": "execute_result"
    }
   ],
   "source": [
    "hf_positive_case=df_2021_hartford[\"Number of molecular positives\"]\n",
    "hf_positive_case"
   ]
  },
  {
   "cell_type": "code",
   "execution_count": 29,
   "id": "eb6f6087",
   "metadata": {},
   "outputs": [
    {
     "data": {
      "text/plain": [
       "2701     188\n",
       "901      173\n",
       "649       91\n",
       "199     1011\n",
       "7300     406\n",
       "        ... \n",
       "5104     155\n",
       "3862      15\n",
       "4834     152\n",
       "4591     101\n",
       "1729      85\n",
       "Name: Number of molecular positives, Length: 100, dtype: int64"
      ]
     },
     "execution_count": 29,
     "metadata": {},
     "output_type": "execute_result"
    }
   ],
   "source": [
    "hf_positive_case.sample(100)"
   ]
  },
  {
   "cell_type": "code",
   "execution_count": 30,
   "id": "b83ccb35",
   "metadata": {},
   "outputs": [
    {
     "ename": "SyntaxError",
     "evalue": "invalid character '–' (U+2013) (207303659.py, line 1)",
     "output_type": "error",
     "traceback": [
      "\u001b[1;36m  Cell \u001b[1;32mIn[30], line 1\u001b[1;36m\u001b[0m\n\u001b[1;33m    P(X = k) – The probability of obtaining k successful outcomes in a total of n independent trials.\u001b[0m\n\u001b[1;37m             ^\u001b[0m\n\u001b[1;31mSyntaxError\u001b[0m\u001b[1;31m:\u001b[0m invalid character '–' (U+2013)\n"
     ]
    }
   ],
   "source": [
    "P(X = k) – The probability of obtaining k successful outcomes in a total of n independent trials.\n",
    "n – The number of trials. (10 days)\n",
    "k – The number of successes. (Number of positive test result each day) - 100\n",
    "p – The chance that a trial is successful. (In this case, 0.95)\n",
    "$\\binom{n}{k} $ – The number of ways k successes can be chosen from a total of n independent trials."
   ]
  },
  {
   "cell_type": "code",
   "execution_count": null,
   "id": "4c2f139b",
   "metadata": {},
   "outputs": [],
   "source": [
    "#hf_positive_case[hf_positive_case >0].groupby(by=[df_2021[\"Month\"]]).sum()\n",
    "hf_positive_case[hf_positive_case >0]"
   ]
  },
  {
   "cell_type": "code",
   "execution_count": null,
   "id": "f25d9c37",
   "metadata": {},
   "outputs": [],
   "source": [
    "import math\n",
    "math.comb(6081,1940)"
   ]
  },
  {
   "cell_type": "code",
   "execution_count": null,
   "id": "066bd963",
   "metadata": {},
   "outputs": [],
   "source": [
    "# Generate binomial data\n",
    "from scipy.stats import binom\n",
    "# Assign and print probability of 8 successes out of 10 trails\n",
    "probmassfunc=binom.pmf(k=10, n=6081\n",
    ", p=0.50)\n",
    "print('{:.20f}'.format(probmassfunc))"
   ]
  },
  {
   "cell_type": "code",
   "execution_count": null,
   "id": "3f95a50f",
   "metadata": {},
   "outputs": [],
   "source": [
    "from scipy.stats import binom\n",
    "cumdenfunc = binom.cdf(k=100, n=365, p=0.50)\n",
    "print('{:.20f}'.format(1-cumdenfunc))"
   ]
  },
  {
   "cell_type": "code",
   "execution_count": null,
   "id": "437e6c61",
   "metadata": {},
   "outputs": [],
   "source": [
    "import math\n",
    "\n",
    "# Create an empty list to store the probabilities of getting an even number of heads\n",
    "probabilities = []\n",
    "\n",
    "# Loop over all even numbers of heads that can be obtained in 21 flips\n",
    "for i in range(0, 22, 2):\n",
    "    # Calculate the number of ways to choose i heads out of 21 flips\n",
    "    m = math.comb(21, i)\n",
    "    # Calculate the probability of getting i heads in 21 flips\n",
    "    n = (1/2 ** 21)\n",
    "    prob = m * n \n",
    "    # Append the probability to the list\n",
    "    probabilities.append(prob)\n",
    "\n",
    "# Loop over the probabilities and print the probability of getting each even number of heads\n",
    "for i, prob in enumerate(probabilities):\n",
    "    print(\"The probability of getting {} heads in 21 flips is {}.\".format(2*i, prob))\n",
    "\n",
    "# Calculate the total probability \n",
    "total_prob = sum(probabilities)\n",
    "print(\"Total probability of getting even number of heads is {}\".format(total_prob))"
   ]
  },
  {
   "cell_type": "code",
   "execution_count": null,
   "id": "1b85531a",
   "metadata": {},
   "outputs": [],
   "source": [
    "np.array(range(0, 10, 1))\n",
    "(2 ** 4)"
   ]
  },
  {
   "cell_type": "code",
   "execution_count": null,
   "id": "4d374768",
   "metadata": {},
   "outputs": [],
   "source": [
    "import math\n",
    "\n",
    "# Create an empty list to store the probabilities of getting an even number of heads\n",
    "probabilities = []\n",
    "\n",
    "# Loop over all even numbers of heads that can be obtained in 21 flips\n",
    "for i in range(0, 10, 1):\n",
    "    # Calculate the number of ways to choose i heads out of 21 flips\n",
    "    m = math.comb(10, i)\n",
    "    # Calculate the probability of getting i heads in 21 flips\n",
    "    n = (1/2 ** 10)\n",
    "    prob = m * n \n",
    "    # Append the probability to the list\n",
    "    probabilities.append(prob)\n",
    "\n",
    "# Loop over the probabilities and print the probability of getting each even number of heads\n",
    "for i, prob in enumerate(probabilities):\n",
    "    print(\"The probability of getting {} heads in 10 flips is {}.\".format(i, prob))\n",
    "\n",
    "# Calculate the total probability \n",
    "total_prob = sum(probabilities)\n",
    "print(\"Total probability of getting even number of heads is {}\".format(total_prob))"
   ]
  },
  {
   "cell_type": "code",
   "execution_count": null,
   "id": "58239d38",
   "metadata": {},
   "outputs": [],
   "source": []
  }
 ],
 "metadata": {
  "kernelspec": {
   "display_name": "Python 3 (ipykernel)",
   "language": "python",
   "name": "python3"
  },
  "language_info": {
   "codemirror_mode": {
    "name": "ipython",
    "version": 3
   },
   "file_extension": ".py",
   "mimetype": "text/x-python",
   "name": "python",
   "nbconvert_exporter": "python",
   "pygments_lexer": "ipython3",
   "version": "3.11.5"
  }
 },
 "nbformat": 4,
 "nbformat_minor": 5
}
